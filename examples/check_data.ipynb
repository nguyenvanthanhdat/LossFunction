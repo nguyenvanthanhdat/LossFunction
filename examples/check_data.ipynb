{
 "cells": [
  {
   "cell_type": "code",
   "execution_count": 1,
   "metadata": {},
   "outputs": [],
   "source": [
    "from datasets import load_dataset, DatasetDict, Dataset\n",
    "import pandas\n",
    "from tqdm import tqdm"
   ]
  },
  {
   "cell_type": "code",
   "execution_count": 2,
   "metadata": {},
   "outputs": [],
   "source": [
    "dataset = load_dataset(\"presencesw/vinli_3_label\")"
   ]
  },
  {
   "cell_type": "code",
   "execution_count": 3,
   "metadata": {},
   "outputs": [
    {
     "name": "stdout",
     "output_type": "stream",
     "text": [
      "DatasetDict({\n",
      "    train: Dataset({\n",
      "        features: ['gold_label', 'sentence1', 'sentence2'],\n",
      "        num_rows: 18282\n",
      "    })\n",
      "    test: Dataset({\n",
      "        features: ['gold_label', 'sentence1', 'sentence2'],\n",
      "        num_rows: 2264\n",
      "    })\n",
      "    dev: Dataset({\n",
      "        features: ['gold_label', 'sentence1', 'sentence2'],\n",
      "        num_rows: 2255\n",
      "    })\n",
      "})\n"
     ]
    }
   ],
   "source": [
    "print(dataset)"
   ]
  },
  {
   "cell_type": "code",
   "execution_count": 4,
   "metadata": {},
   "outputs": [],
   "source": [
    "def convert_entailment(exmaples):\n",
    "    labels = exmaples['gold_label']\n",
    "    labels = [\"not_entailment\" if i != 'entailment' else 'entailment' for i in labels]\n",
    "    exmaples['gold_label'] = labels\n",
    "    return exmaples"
   ]
  },
  {
   "cell_type": "code",
   "execution_count": 5,
   "metadata": {},
   "outputs": [],
   "source": [
    "new_dataset = dataset.map(convert_entailment, batched=True)"
   ]
  },
  {
   "cell_type": "code",
   "execution_count": 6,
   "metadata": {},
   "outputs": [
    {
     "name": "stdout",
     "output_type": "stream",
     "text": [
      "{'gold_label': 'entailment', 'sentence1': 'Sau dự án điện mặt trời, Tập đoàn Trung Nam vừa bán 35,1% cổ phần Nhà máy Điện gió Trung Nam cho Công ty Hitachi Sustainable Energy.', 'sentence2': 'Công ty Hitachi Sustainable Energy có cổ phần trong Nhà máy Điện gió Trung Nam.'}\n",
      "{'gold_label': 'entailment', 'sentence1': 'Sau dự án điện mặt trời, Tập đoàn Trung Nam vừa bán 35,1% cổ phần Nhà máy Điện gió Trung Nam cho Công ty Hitachi Sustainable Energy.', 'sentence2': 'Tập đoàn Trung Nam vừa thực hiện dự án điện năng lượng mặt trời.'}\n",
      "{'gold_label': 'not_entailment', 'sentence1': 'Sau dự án điện mặt trời, Tập đoàn Trung Nam vừa bán 35,1% cổ phần Nhà máy Điện gió Trung Nam cho Công ty Hitachi Sustainable Energy.', 'sentence2': 'Tập đoàn Trung Nguyên vừa bán hơn hơn 30% cổ phần cho Tập đoàn Vingroup.'}\n",
      "{'gold_label': 'not_entailment', 'sentence1': 'Sau dự án điện mặt trời, Tập đoàn Trung Nam vừa bán 35,1% cổ phần Nhà máy Điện gió Trung Nam cho Công ty Hitachi Sustainable Energy.', 'sentence2': 'Nhà máy Điện gió Trung Nam có 100% vốn cổ phần của Công ty Hitachi Sustainable Energy.'}\n",
      "{'gold_label': 'not_entailment', 'sentence1': 'Sau dự án điện mặt trời, Tập đoàn Trung Nam vừa bán 35,1% cổ phần Nhà máy Điện gió Trung Nam cho Công ty Hitachi Sustainable Energy.', 'sentence2': 'Tập đoàn Trung Nam có ý định bán toàn bộ cổ phần Nhà máy Điện gió Trung Nam cho Công ty Hitachi Sustainable Energy.'}\n",
      "{'gold_label': 'not_entailment', 'sentence1': 'Sau dự án điện mặt trời, Tập đoàn Trung Nam vừa bán 35,1% cổ phần Nhà máy Điện gió Trung Nam cho Công ty Hitachi Sustainable Energy.', 'sentence2': 'Sau dự án điện mặt trời, Tập đoàn Trung Nam sẽ tiếp tục thực hiện dự án điện bằng sức gió.'}\n",
      "{'gold_label': 'entailment', 'sentence1': 'Phía Tập đoàn Trung Nam cho biết, với 64,9% cổ phần còn lại họ vẫn giữ vai trò quyết định trong điều hành, định hướng phát triển của dự án điện gió Trung Nam.', 'sentence2': 'Tập đoàn Trung Nam nắm giữ phần lớn lượng cổ phần của Nhà máy Điện gió.'}\n",
      "{'gold_label': 'entailment', 'sentence1': 'Phía Tập đoàn Trung Nam cho biết, với 64,9% cổ phần còn lại họ vẫn giữ vai trò quyết định trong điều hành, định hướng phát triển của dự án điện gió Trung Nam.', 'sentence2': 'Tập đoàn Trung Nam là người có thể đưa ra quyết định sau cùng trong các dự án thuộc về Nhà máy Điện gió.'}\n",
      "{'gold_label': 'not_entailment', 'sentence1': 'Phía Tập đoàn Trung Nam cho biết, với 64,9% cổ phần còn lại họ vẫn giữ vai trò quyết định trong điều hành, định hướng phát triển của dự án điện gió Trung Nam.', 'sentence2': 'Tuy giữ nhiều cổ phần hơn nhưng Tập đoàn Trung Nam không được nắm quyền trong các quyết định của dự án quan trọng.'}\n",
      "{'gold_label': 'not_entailment', 'sentence1': 'Phía Tập đoàn Trung Nam cho biết, với 64,9% cổ phần còn lại họ vẫn giữ vai trò quyết định trong điều hành, định hướng phát triển của dự án điện gió Trung Nam.', 'sentence2': 'Tập đoàn Trung Nam hiện không giữ bất cứ cổ phần nào của Nhà máy Điện gió.'}\n"
     ]
    }
   ],
   "source": [
    "temp = Dataset.from_dict(new_dataset['train'][:10])\n",
    "for i in temp:\n",
    "    print(i)"
   ]
  },
  {
   "cell_type": "code",
   "execution_count": 7,
   "metadata": {},
   "outputs": [
    {
     "data": {
      "text/plain": [
       "Dataset({\n",
       "    features: ['gold_label', 'sentence1', 'sentence2'],\n",
       "    num_rows: 18282\n",
       "})"
      ]
     },
     "execution_count": 7,
     "metadata": {},
     "output_type": "execute_result"
    }
   ],
   "source": [
    "new_dataset['train']"
   ]
  },
  {
   "cell_type": "code",
   "execution_count": 8,
   "metadata": {},
   "outputs": [],
   "source": [
    "new_dataset_entail = new_dataset.filter(lambda example: example['gold_label'] == 'entailment')['train']\n",
    "new_dataset_not_entail = new_dataset.filter(lambda example: example['gold_label'] == 'not_entailment')['train']"
   ]
  },
  {
   "cell_type": "code",
   "execution_count": 9,
   "metadata": {},
   "outputs": [],
   "source": [
    "new_dataset_entail = Dataset.to_pandas(new_dataset_entail)\n",
    "new_dataset_not_entail1 = Dataset.to_pandas(new_dataset_not_entail)\n",
    "new_dataset_not_entail2 = Dataset.to_pandas(new_dataset_not_entail)"
   ]
  },
  {
   "cell_type": "code",
   "execution_count": 10,
   "metadata": {},
   "outputs": [
    {
     "name": "stderr",
     "output_type": "stream",
     "text": [
      "100%|██████████| 12188/12188 [00:02<00:00, 5105.04it/s]\n"
     ]
    }
   ],
   "source": [
    "j = 0\n",
    "for i in tqdm(range(len(new_dataset_not_entail1))):\n",
    "    temp = set()\n",
    "    # check = False\n",
    "    # for j in range(len(new_dataset_not_entail2)):\n",
    "    for index in range(100):\n",
    "        new_j = j + index\n",
    "        if new_j == len(new_dataset_not_entail1):\n",
    "            break\n",
    "        if new_dataset_not_entail1.iloc[i]['sentence1'] != new_dataset_not_entail2.iloc[new_j]['sentence1']:\n",
    "            j = new_j\n",
    "            break\n",
    "        temp.add(new_dataset_not_entail2.iloc[new_j]['sentence2'])\n",
    "    new_dataset_not_entail1.iloc[i]['sentence2'] = temp"
   ]
  },
  {
   "cell_type": "code",
   "execution_count": 11,
   "metadata": {},
   "outputs": [
    {
     "name": "stdout",
     "output_type": "stream",
     "text": [
      "12188\n"
     ]
    }
   ],
   "source": [
    "print(len(new_dataset_not_entail1))"
   ]
  },
  {
   "cell_type": "code",
   "execution_count": 12,
   "metadata": {},
   "outputs": [],
   "source": [
    "# print(new_dataset_not_entail1.iloc[2]['sentence2'])"
   ]
  },
  {
   "cell_type": "code",
   "execution_count": 13,
   "metadata": {},
   "outputs": [
    {
     "name": "stdout",
     "output_type": "stream",
     "text": [
      "3045\n",
      "3044\n"
     ]
    }
   ],
   "source": [
    "dataset_not_entail = new_dataset_not_entail1.drop_duplicates(subset=['sentence2'])\n",
    "print(len(dataset_not_entail))\n",
    "dataset_not_entail = dataset_not_entail[dataset_not_entail['sentence2'] != set()]\n",
    "print(len(dataset_not_entail))"
   ]
  },
  {
   "cell_type": "code",
   "execution_count": 14,
   "metadata": {},
   "outputs": [],
   "source": [
    "dataset_not_entail = dataset_not_entail.reset_index(drop=True)"
   ]
  },
  {
   "cell_type": "code",
   "execution_count": 15,
   "metadata": {},
   "outputs": [
    {
     "data": {
      "text/html": [
       "<div>\n",
       "<style scoped>\n",
       "    .dataframe tbody tr th:only-of-type {\n",
       "        vertical-align: middle;\n",
       "    }\n",
       "\n",
       "    .dataframe tbody tr th {\n",
       "        vertical-align: top;\n",
       "    }\n",
       "\n",
       "    .dataframe thead th {\n",
       "        text-align: right;\n",
       "    }\n",
       "</style>\n",
       "<table border=\"1\" class=\"dataframe\">\n",
       "  <thead>\n",
       "    <tr style=\"text-align: right;\">\n",
       "      <th></th>\n",
       "      <th>gold_label</th>\n",
       "      <th>sentence1</th>\n",
       "      <th>sentence2</th>\n",
       "    </tr>\n",
       "  </thead>\n",
       "  <tbody>\n",
       "    <tr>\n",
       "      <th>0</th>\n",
       "      <td>not_entailment</td>\n",
       "      <td>Sau dự án điện mặt trời, Tập đoàn Trung Nam vừ...</td>\n",
       "      <td>{Nhà máy Điện gió Trung Nam có 100% vốn cổ phầ...</td>\n",
       "    </tr>\n",
       "    <tr>\n",
       "      <th>1</th>\n",
       "      <td>not_entailment</td>\n",
       "      <td>Phía Tập đoàn Trung Nam cho biết, với 64,9% cổ...</td>\n",
       "      <td>{Nhiều người mong muốn được giữ quyền điều hàn...</td>\n",
       "    </tr>\n",
       "    <tr>\n",
       "      <th>2</th>\n",
       "      <td>not_entailment</td>\n",
       "      <td>Cách đây một tháng, tập đoàn này cũng bán 49% ...</td>\n",
       "      <td>{Vốn của một công ty nước ngoài đang chiếm 49%...</td>\n",
       "    </tr>\n",
       "    <tr>\n",
       "      <th>3</th>\n",
       "      <td>not_entailment</td>\n",
       "      <td>Dự án Nhà máy Điện gió Trung Nam, tổng số vốn ...</td>\n",
       "      <td>{Sản lượng điện dự kiến tạo ra trong một năm t...</td>\n",
       "    </tr>\n",
       "    <tr>\n",
       "      <th>4</th>\n",
       "      <td>not_entailment</td>\n",
       "      <td>Từ nay tới năm 2028, dòng vốn đầu tư được dự b...</td>\n",
       "      <td>{Theo như dự đoán thì dòng vốn đầu tư từ nay c...</td>\n",
       "    </tr>\n",
       "    <tr>\n",
       "      <th>...</th>\n",
       "      <td>...</td>\n",
       "      <td>...</td>\n",
       "      <td>...</td>\n",
       "    </tr>\n",
       "    <tr>\n",
       "      <th>3039</th>\n",
       "      <td>not_entailment</td>\n",
       "      <td>Ổ SSD dùng để khai thác tiền số Chia chỉ còn t...</td>\n",
       "      <td>{Ổ cứng đã được sử dụng để khai thác tiền số c...</td>\n",
       "    </tr>\n",
       "    <tr>\n",
       "      <th>3040</th>\n",
       "      <td>not_entailment</td>\n",
       "      <td>Khi khai thác Chia, những ổ cứng dung lượng lớ...</td>\n",
       "      <td>{Tuổi thọ trung bình của những ổ cứng sử dụng ...</td>\n",
       "    </tr>\n",
       "    <tr>\n",
       "      <th>3041</th>\n",
       "      <td>not_entailment</td>\n",
       "      <td>Ổ cứng thường được hãng bảo hành từ ba đến năm...</td>\n",
       "      <td>{Ổ cứng được bảo hành tại các cửa hàng đại lý ...</td>\n",
       "    </tr>\n",
       "    <tr>\n",
       "      <th>3042</th>\n",
       "      <td>not_entailment</td>\n",
       "      <td>Ổ SSD được \"thợ đào\" Chia yêu thích vì tốc độ ...</td>\n",
       "      <td>{Ổ HDD được nhiều \"thợ đào\" Chia săn lùng vì t...</td>\n",
       "    </tr>\n",
       "    <tr>\n",
       "      <th>3043</th>\n",
       "      <td>not_entailment</td>\n",
       "      <td>Chia là tiền điện tử đang \"sốt\" tại Trung Quốc.</td>\n",
       "      <td>{Tiền ảo Chia đang gây \"sốt\" tại thị trường Bắ...</td>\n",
       "    </tr>\n",
       "  </tbody>\n",
       "</table>\n",
       "<p>3044 rows × 3 columns</p>\n",
       "</div>"
      ],
      "text/plain": [
       "          gold_label                                          sentence1  \\\n",
       "0     not_entailment  Sau dự án điện mặt trời, Tập đoàn Trung Nam vừ...   \n",
       "1     not_entailment  Phía Tập đoàn Trung Nam cho biết, với 64,9% cổ...   \n",
       "2     not_entailment  Cách đây một tháng, tập đoàn này cũng bán 49% ...   \n",
       "3     not_entailment  Dự án Nhà máy Điện gió Trung Nam, tổng số vốn ...   \n",
       "4     not_entailment  Từ nay tới năm 2028, dòng vốn đầu tư được dự b...   \n",
       "...              ...                                                ...   \n",
       "3039  not_entailment  Ổ SSD dùng để khai thác tiền số Chia chỉ còn t...   \n",
       "3040  not_entailment  Khi khai thác Chia, những ổ cứng dung lượng lớ...   \n",
       "3041  not_entailment  Ổ cứng thường được hãng bảo hành từ ba đến năm...   \n",
       "3042  not_entailment  Ổ SSD được \"thợ đào\" Chia yêu thích vì tốc độ ...   \n",
       "3043  not_entailment    Chia là tiền điện tử đang \"sốt\" tại Trung Quốc.   \n",
       "\n",
       "                                              sentence2  \n",
       "0     {Nhà máy Điện gió Trung Nam có 100% vốn cổ phầ...  \n",
       "1     {Nhiều người mong muốn được giữ quyền điều hàn...  \n",
       "2     {Vốn của một công ty nước ngoài đang chiếm 49%...  \n",
       "3     {Sản lượng điện dự kiến tạo ra trong một năm t...  \n",
       "4     {Theo như dự đoán thì dòng vốn đầu tư từ nay c...  \n",
       "...                                                 ...  \n",
       "3039  {Ổ cứng đã được sử dụng để khai thác tiền số c...  \n",
       "3040  {Tuổi thọ trung bình của những ổ cứng sử dụng ...  \n",
       "3041  {Ổ cứng được bảo hành tại các cửa hàng đại lý ...  \n",
       "3042  {Ổ HDD được nhiều \"thợ đào\" Chia săn lùng vì t...  \n",
       "3043  {Tiền ảo Chia đang gây \"sốt\" tại thị trường Bắ...  \n",
       "\n",
       "[3044 rows x 3 columns]"
      ]
     },
     "execution_count": 15,
     "metadata": {},
     "output_type": "execute_result"
    }
   ],
   "source": [
    "dataset_not_entail"
   ]
  },
  {
   "cell_type": "code",
   "execution_count": 16,
   "metadata": {},
   "outputs": [
    {
     "data": {
      "text/html": [
       "<div>\n",
       "<style scoped>\n",
       "    .dataframe tbody tr th:only-of-type {\n",
       "        vertical-align: middle;\n",
       "    }\n",
       "\n",
       "    .dataframe tbody tr th {\n",
       "        vertical-align: top;\n",
       "    }\n",
       "\n",
       "    .dataframe thead th {\n",
       "        text-align: right;\n",
       "    }\n",
       "</style>\n",
       "<table border=\"1\" class=\"dataframe\">\n",
       "  <thead>\n",
       "    <tr style=\"text-align: right;\">\n",
       "      <th></th>\n",
       "      <th>gold_label</th>\n",
       "      <th>sentence1</th>\n",
       "      <th>sentence2</th>\n",
       "    </tr>\n",
       "  </thead>\n",
       "  <tbody>\n",
       "    <tr>\n",
       "      <th>0</th>\n",
       "      <td>not_entailment</td>\n",
       "      <td>Sau dự án điện mặt trời, Tập đoàn Trung Nam vừ...</td>\n",
       "      <td>{Nhà máy Điện gió Trung Nam có 100% vốn cổ phầ...</td>\n",
       "    </tr>\n",
       "    <tr>\n",
       "      <th>1</th>\n",
       "      <td>not_entailment</td>\n",
       "      <td>Phía Tập đoàn Trung Nam cho biết, với 64,9% cổ...</td>\n",
       "      <td>{Nhiều người mong muốn được giữ quyền điều hàn...</td>\n",
       "    </tr>\n",
       "    <tr>\n",
       "      <th>2</th>\n",
       "      <td>not_entailment</td>\n",
       "      <td>Cách đây một tháng, tập đoàn này cũng bán 49% ...</td>\n",
       "      <td>{Vốn của một công ty nước ngoài đang chiếm 49%...</td>\n",
       "    </tr>\n",
       "    <tr>\n",
       "      <th>3</th>\n",
       "      <td>not_entailment</td>\n",
       "      <td>Dự án Nhà máy Điện gió Trung Nam, tổng số vốn ...</td>\n",
       "      <td>{Sản lượng điện dự kiến tạo ra trong một năm t...</td>\n",
       "    </tr>\n",
       "    <tr>\n",
       "      <th>4</th>\n",
       "      <td>not_entailment</td>\n",
       "      <td>Từ nay tới năm 2028, dòng vốn đầu tư được dự b...</td>\n",
       "      <td>{Theo như dự đoán thì dòng vốn đầu tư từ nay c...</td>\n",
       "    </tr>\n",
       "    <tr>\n",
       "      <th>...</th>\n",
       "      <td>...</td>\n",
       "      <td>...</td>\n",
       "      <td>...</td>\n",
       "    </tr>\n",
       "    <tr>\n",
       "      <th>3039</th>\n",
       "      <td>not_entailment</td>\n",
       "      <td>Ổ SSD dùng để khai thác tiền số Chia chỉ còn t...</td>\n",
       "      <td>{Ổ cứng đã được sử dụng để khai thác tiền số c...</td>\n",
       "    </tr>\n",
       "    <tr>\n",
       "      <th>3040</th>\n",
       "      <td>not_entailment</td>\n",
       "      <td>Khi khai thác Chia, những ổ cứng dung lượng lớ...</td>\n",
       "      <td>{Tuổi thọ trung bình của những ổ cứng sử dụng ...</td>\n",
       "    </tr>\n",
       "    <tr>\n",
       "      <th>3041</th>\n",
       "      <td>not_entailment</td>\n",
       "      <td>Ổ cứng thường được hãng bảo hành từ ba đến năm...</td>\n",
       "      <td>{Ổ cứng được bảo hành tại các cửa hàng đại lý ...</td>\n",
       "    </tr>\n",
       "    <tr>\n",
       "      <th>3042</th>\n",
       "      <td>not_entailment</td>\n",
       "      <td>Ổ SSD được \"thợ đào\" Chia yêu thích vì tốc độ ...</td>\n",
       "      <td>{Ổ HDD được nhiều \"thợ đào\" Chia săn lùng vì t...</td>\n",
       "    </tr>\n",
       "    <tr>\n",
       "      <th>3043</th>\n",
       "      <td>not_entailment</td>\n",
       "      <td>Chia là tiền điện tử đang \"sốt\" tại Trung Quốc.</td>\n",
       "      <td>{Tiền ảo Chia đang gây \"sốt\" tại thị trường Bắ...</td>\n",
       "    </tr>\n",
       "  </tbody>\n",
       "</table>\n",
       "<p>3044 rows × 3 columns</p>\n",
       "</div>"
      ],
      "text/plain": [
       "          gold_label                                          sentence1  \\\n",
       "0     not_entailment  Sau dự án điện mặt trời, Tập đoàn Trung Nam vừ...   \n",
       "1     not_entailment  Phía Tập đoàn Trung Nam cho biết, với 64,9% cổ...   \n",
       "2     not_entailment  Cách đây một tháng, tập đoàn này cũng bán 49% ...   \n",
       "3     not_entailment  Dự án Nhà máy Điện gió Trung Nam, tổng số vốn ...   \n",
       "4     not_entailment  Từ nay tới năm 2028, dòng vốn đầu tư được dự b...   \n",
       "...              ...                                                ...   \n",
       "3039  not_entailment  Ổ SSD dùng để khai thác tiền số Chia chỉ còn t...   \n",
       "3040  not_entailment  Khi khai thác Chia, những ổ cứng dung lượng lớ...   \n",
       "3041  not_entailment  Ổ cứng thường được hãng bảo hành từ ba đến năm...   \n",
       "3042  not_entailment  Ổ SSD được \"thợ đào\" Chia yêu thích vì tốc độ ...   \n",
       "3043  not_entailment    Chia là tiền điện tử đang \"sốt\" tại Trung Quốc.   \n",
       "\n",
       "                                              sentence2  \n",
       "0     {Nhà máy Điện gió Trung Nam có 100% vốn cổ phầ...  \n",
       "1     {Nhiều người mong muốn được giữ quyền điều hàn...  \n",
       "2     {Vốn của một công ty nước ngoài đang chiếm 49%...  \n",
       "3     {Sản lượng điện dự kiến tạo ra trong một năm t...  \n",
       "4     {Theo như dự đoán thì dòng vốn đầu tư từ nay c...  \n",
       "...                                                 ...  \n",
       "3039  {Ổ cứng đã được sử dụng để khai thác tiền số c...  \n",
       "3040  {Tuổi thọ trung bình của những ổ cứng sử dụng ...  \n",
       "3041  {Ổ cứng được bảo hành tại các cửa hàng đại lý ...  \n",
       "3042  {Ổ HDD được nhiều \"thợ đào\" Chia săn lùng vì t...  \n",
       "3043  {Tiền ảo Chia đang gây \"sốt\" tại thị trường Bắ...  \n",
       "\n",
       "[3044 rows x 3 columns]"
      ]
     },
     "execution_count": 16,
     "metadata": {},
     "output_type": "execute_result"
    }
   ],
   "source": [
    "dataset_not_entail"
   ]
  },
  {
   "cell_type": "code",
   "execution_count": 17,
   "metadata": {},
   "outputs": [
    {
     "data": {
      "text/html": [
       "<div>\n",
       "<style scoped>\n",
       "    .dataframe tbody tr th:only-of-type {\n",
       "        vertical-align: middle;\n",
       "    }\n",
       "\n",
       "    .dataframe tbody tr th {\n",
       "        vertical-align: top;\n",
       "    }\n",
       "\n",
       "    .dataframe thead th {\n",
       "        text-align: right;\n",
       "    }\n",
       "</style>\n",
       "<table border=\"1\" class=\"dataframe\">\n",
       "  <thead>\n",
       "    <tr style=\"text-align: right;\">\n",
       "      <th></th>\n",
       "      <th>gold_label</th>\n",
       "      <th>sentence1</th>\n",
       "      <th>sentence2</th>\n",
       "    </tr>\n",
       "  </thead>\n",
       "  <tbody>\n",
       "    <tr>\n",
       "      <th>0</th>\n",
       "      <td>entailment</td>\n",
       "      <td>Sau dự án điện mặt trời, Tập đoàn Trung Nam vừ...</td>\n",
       "      <td>Công ty Hitachi Sustainable Energy có cổ phần ...</td>\n",
       "    </tr>\n",
       "    <tr>\n",
       "      <th>1</th>\n",
       "      <td>entailment</td>\n",
       "      <td>Sau dự án điện mặt trời, Tập đoàn Trung Nam vừ...</td>\n",
       "      <td>Tập đoàn Trung Nam vừa thực hiện dự án điện nă...</td>\n",
       "    </tr>\n",
       "    <tr>\n",
       "      <th>2</th>\n",
       "      <td>entailment</td>\n",
       "      <td>Phía Tập đoàn Trung Nam cho biết, với 64,9% cổ...</td>\n",
       "      <td>Tập đoàn Trung Nam nắm giữ phần lớn lượng cổ p...</td>\n",
       "    </tr>\n",
       "    <tr>\n",
       "      <th>3</th>\n",
       "      <td>entailment</td>\n",
       "      <td>Phía Tập đoàn Trung Nam cho biết, với 64,9% cổ...</td>\n",
       "      <td>Tập đoàn Trung Nam là người có thể đưa ra quyế...</td>\n",
       "    </tr>\n",
       "    <tr>\n",
       "      <th>4</th>\n",
       "      <td>entailment</td>\n",
       "      <td>Cách đây một tháng, tập đoàn này cũng bán 49% ...</td>\n",
       "      <td>Số cổ phần của tập đoàn Trung Nam tại Nhà máy ...</td>\n",
       "    </tr>\n",
       "    <tr>\n",
       "      <th>...</th>\n",
       "      <td>...</td>\n",
       "      <td>...</td>\n",
       "      <td>...</td>\n",
       "    </tr>\n",
       "    <tr>\n",
       "      <th>6089</th>\n",
       "      <td>entailment</td>\n",
       "      <td>Ổ cứng thường được hãng bảo hành từ ba đến năm...</td>\n",
       "      <td>Năm năm là mức thời gian bảo hành tối đa cho m...</td>\n",
       "    </tr>\n",
       "    <tr>\n",
       "      <th>6090</th>\n",
       "      <td>entailment</td>\n",
       "      <td>Ổ SSD được \"thợ đào\" Chia yêu thích vì tốc độ ...</td>\n",
       "      <td>Ổ SSD có tốc độ xử lý cao hơn ổ HDD.</td>\n",
       "    </tr>\n",
       "    <tr>\n",
       "      <th>6091</th>\n",
       "      <td>entailment</td>\n",
       "      <td>Ổ SSD được \"thợ đào\" Chia yêu thích vì tốc độ ...</td>\n",
       "      <td>Nhiều người dùng ổ cứng SSD để khai thác tiền ...</td>\n",
       "    </tr>\n",
       "    <tr>\n",
       "      <th>6092</th>\n",
       "      <td>entailment</td>\n",
       "      <td>Chia là tiền điện tử đang \"sốt\" tại Trung Quốc.</td>\n",
       "      <td>Chia là một loại tiền ảo đang được rất nhiều n...</td>\n",
       "    </tr>\n",
       "    <tr>\n",
       "      <th>6093</th>\n",
       "      <td>entailment</td>\n",
       "      <td>Chia là tiền điện tử đang \"sốt\" tại Trung Quốc.</td>\n",
       "      <td>Ở Trung Quốc, rất nhiều người đang cố gắng đào...</td>\n",
       "    </tr>\n",
       "  </tbody>\n",
       "</table>\n",
       "<p>6094 rows × 3 columns</p>\n",
       "</div>"
      ],
      "text/plain": [
       "      gold_label                                          sentence1  \\\n",
       "0     entailment  Sau dự án điện mặt trời, Tập đoàn Trung Nam vừ...   \n",
       "1     entailment  Sau dự án điện mặt trời, Tập đoàn Trung Nam vừ...   \n",
       "2     entailment  Phía Tập đoàn Trung Nam cho biết, với 64,9% cổ...   \n",
       "3     entailment  Phía Tập đoàn Trung Nam cho biết, với 64,9% cổ...   \n",
       "4     entailment  Cách đây một tháng, tập đoàn này cũng bán 49% ...   \n",
       "...          ...                                                ...   \n",
       "6089  entailment  Ổ cứng thường được hãng bảo hành từ ba đến năm...   \n",
       "6090  entailment  Ổ SSD được \"thợ đào\" Chia yêu thích vì tốc độ ...   \n",
       "6091  entailment  Ổ SSD được \"thợ đào\" Chia yêu thích vì tốc độ ...   \n",
       "6092  entailment    Chia là tiền điện tử đang \"sốt\" tại Trung Quốc.   \n",
       "6093  entailment    Chia là tiền điện tử đang \"sốt\" tại Trung Quốc.   \n",
       "\n",
       "                                              sentence2  \n",
       "0     Công ty Hitachi Sustainable Energy có cổ phần ...  \n",
       "1     Tập đoàn Trung Nam vừa thực hiện dự án điện nă...  \n",
       "2     Tập đoàn Trung Nam nắm giữ phần lớn lượng cổ p...  \n",
       "3     Tập đoàn Trung Nam là người có thể đưa ra quyế...  \n",
       "4     Số cổ phần của tập đoàn Trung Nam tại Nhà máy ...  \n",
       "...                                                 ...  \n",
       "6089  Năm năm là mức thời gian bảo hành tối đa cho m...  \n",
       "6090               Ổ SSD có tốc độ xử lý cao hơn ổ HDD.  \n",
       "6091  Nhiều người dùng ổ cứng SSD để khai thác tiền ...  \n",
       "6092  Chia là một loại tiền ảo đang được rất nhiều n...  \n",
       "6093  Ở Trung Quốc, rất nhiều người đang cố gắng đào...  \n",
       "\n",
       "[6094 rows x 3 columns]"
      ]
     },
     "execution_count": 17,
     "metadata": {},
     "output_type": "execute_result"
    }
   ],
   "source": [
    "new_dataset_entail"
   ]
  },
  {
   "cell_type": "code",
   "execution_count": 18,
   "metadata": {},
   "outputs": [
    {
     "name": "stderr",
     "output_type": "stream",
     "text": [
      "  0%|          | 0/6094 [00:00<?, ?it/s]"
     ]
    },
    {
     "name": "stderr",
     "output_type": "stream",
     "text": [
      "100%|██████████| 6094/6094 [09:18<00:00, 10.90it/s]\n"
     ]
    }
   ],
   "source": [
    "temp = []\n",
    "for index1 in tqdm(range(len(new_dataset_entail))):\n",
    "    # print(new_dataset_entail.iloc[index1]['sentence1'])\n",
    "    for index2 in range(len(dataset_not_entail)):\n",
    "        if new_dataset_entail.iloc[index1]['sentence1'] == dataset_not_entail.iloc[index2]['sentence1']:\n",
    "            temp.append(dataset_not_entail.iloc[index2]['sentence2'])\n",
    "            break"
   ]
  },
  {
   "cell_type": "code",
   "execution_count": 19,
   "metadata": {},
   "outputs": [
    {
     "name": "stdout",
     "output_type": "stream",
     "text": [
      "6094\n"
     ]
    }
   ],
   "source": [
    "print(len(temp))"
   ]
  },
  {
   "cell_type": "code",
   "execution_count": 20,
   "metadata": {},
   "outputs": [
    {
     "data": {
      "text/html": [
       "<div>\n",
       "<style scoped>\n",
       "    .dataframe tbody tr th:only-of-type {\n",
       "        vertical-align: middle;\n",
       "    }\n",
       "\n",
       "    .dataframe tbody tr th {\n",
       "        vertical-align: top;\n",
       "    }\n",
       "\n",
       "    .dataframe thead th {\n",
       "        text-align: right;\n",
       "    }\n",
       "</style>\n",
       "<table border=\"1\" class=\"dataframe\">\n",
       "  <thead>\n",
       "    <tr style=\"text-align: right;\">\n",
       "      <th></th>\n",
       "      <th>gold_label</th>\n",
       "      <th>sentence1</th>\n",
       "      <th>sentence2</th>\n",
       "      <th>negative</th>\n",
       "    </tr>\n",
       "  </thead>\n",
       "  <tbody>\n",
       "    <tr>\n",
       "      <th>0</th>\n",
       "      <td>entailment</td>\n",
       "      <td>Sau dự án điện mặt trời, Tập đoàn Trung Nam vừ...</td>\n",
       "      <td>Công ty Hitachi Sustainable Energy có cổ phần ...</td>\n",
       "      <td>{Nhà máy Điện gió Trung Nam có 100% vốn cổ phầ...</td>\n",
       "    </tr>\n",
       "    <tr>\n",
       "      <th>1</th>\n",
       "      <td>entailment</td>\n",
       "      <td>Sau dự án điện mặt trời, Tập đoàn Trung Nam vừ...</td>\n",
       "      <td>Tập đoàn Trung Nam vừa thực hiện dự án điện nă...</td>\n",
       "      <td>{Nhà máy Điện gió Trung Nam có 100% vốn cổ phầ...</td>\n",
       "    </tr>\n",
       "    <tr>\n",
       "      <th>2</th>\n",
       "      <td>entailment</td>\n",
       "      <td>Phía Tập đoàn Trung Nam cho biết, với 64,9% cổ...</td>\n",
       "      <td>Tập đoàn Trung Nam nắm giữ phần lớn lượng cổ p...</td>\n",
       "      <td>{Nhiều người mong muốn được giữ quyền điều hàn...</td>\n",
       "    </tr>\n",
       "    <tr>\n",
       "      <th>3</th>\n",
       "      <td>entailment</td>\n",
       "      <td>Phía Tập đoàn Trung Nam cho biết, với 64,9% cổ...</td>\n",
       "      <td>Tập đoàn Trung Nam là người có thể đưa ra quyế...</td>\n",
       "      <td>{Nhiều người mong muốn được giữ quyền điều hàn...</td>\n",
       "    </tr>\n",
       "    <tr>\n",
       "      <th>4</th>\n",
       "      <td>entailment</td>\n",
       "      <td>Cách đây một tháng, tập đoàn này cũng bán 49% ...</td>\n",
       "      <td>Số cổ phần của tập đoàn Trung Nam tại Nhà máy ...</td>\n",
       "      <td>{Vốn của một công ty nước ngoài đang chiếm 49%...</td>\n",
       "    </tr>\n",
       "    <tr>\n",
       "      <th>...</th>\n",
       "      <td>...</td>\n",
       "      <td>...</td>\n",
       "      <td>...</td>\n",
       "      <td>...</td>\n",
       "    </tr>\n",
       "    <tr>\n",
       "      <th>6089</th>\n",
       "      <td>entailment</td>\n",
       "      <td>Ổ cứng thường được hãng bảo hành từ ba đến năm...</td>\n",
       "      <td>Năm năm là mức thời gian bảo hành tối đa cho m...</td>\n",
       "      <td>{Ổ cứng được bảo hành tại các cửa hàng đại lý ...</td>\n",
       "    </tr>\n",
       "    <tr>\n",
       "      <th>6090</th>\n",
       "      <td>entailment</td>\n",
       "      <td>Ổ SSD được \"thợ đào\" Chia yêu thích vì tốc độ ...</td>\n",
       "      <td>Ổ SSD có tốc độ xử lý cao hơn ổ HDD.</td>\n",
       "      <td>{Ổ HDD được nhiều \"thợ đào\" Chia săn lùng vì t...</td>\n",
       "    </tr>\n",
       "    <tr>\n",
       "      <th>6091</th>\n",
       "      <td>entailment</td>\n",
       "      <td>Ổ SSD được \"thợ đào\" Chia yêu thích vì tốc độ ...</td>\n",
       "      <td>Nhiều người dùng ổ cứng SSD để khai thác tiền ...</td>\n",
       "      <td>{Ổ HDD được nhiều \"thợ đào\" Chia săn lùng vì t...</td>\n",
       "    </tr>\n",
       "    <tr>\n",
       "      <th>6092</th>\n",
       "      <td>entailment</td>\n",
       "      <td>Chia là tiền điện tử đang \"sốt\" tại Trung Quốc.</td>\n",
       "      <td>Chia là một loại tiền ảo đang được rất nhiều n...</td>\n",
       "      <td>{Đồng tiền kém sức hút nhất tại Trung Quốc đượ...</td>\n",
       "    </tr>\n",
       "    <tr>\n",
       "      <th>6093</th>\n",
       "      <td>entailment</td>\n",
       "      <td>Chia là tiền điện tử đang \"sốt\" tại Trung Quốc.</td>\n",
       "      <td>Ở Trung Quốc, rất nhiều người đang cố gắng đào...</td>\n",
       "      <td>{Đồng tiền kém sức hút nhất tại Trung Quốc đượ...</td>\n",
       "    </tr>\n",
       "  </tbody>\n",
       "</table>\n",
       "<p>6094 rows × 4 columns</p>\n",
       "</div>"
      ],
      "text/plain": [
       "      gold_label                                          sentence1  \\\n",
       "0     entailment  Sau dự án điện mặt trời, Tập đoàn Trung Nam vừ...   \n",
       "1     entailment  Sau dự án điện mặt trời, Tập đoàn Trung Nam vừ...   \n",
       "2     entailment  Phía Tập đoàn Trung Nam cho biết, với 64,9% cổ...   \n",
       "3     entailment  Phía Tập đoàn Trung Nam cho biết, với 64,9% cổ...   \n",
       "4     entailment  Cách đây một tháng, tập đoàn này cũng bán 49% ...   \n",
       "...          ...                                                ...   \n",
       "6089  entailment  Ổ cứng thường được hãng bảo hành từ ba đến năm...   \n",
       "6090  entailment  Ổ SSD được \"thợ đào\" Chia yêu thích vì tốc độ ...   \n",
       "6091  entailment  Ổ SSD được \"thợ đào\" Chia yêu thích vì tốc độ ...   \n",
       "6092  entailment    Chia là tiền điện tử đang \"sốt\" tại Trung Quốc.   \n",
       "6093  entailment    Chia là tiền điện tử đang \"sốt\" tại Trung Quốc.   \n",
       "\n",
       "                                              sentence2  \\\n",
       "0     Công ty Hitachi Sustainable Energy có cổ phần ...   \n",
       "1     Tập đoàn Trung Nam vừa thực hiện dự án điện nă...   \n",
       "2     Tập đoàn Trung Nam nắm giữ phần lớn lượng cổ p...   \n",
       "3     Tập đoàn Trung Nam là người có thể đưa ra quyế...   \n",
       "4     Số cổ phần của tập đoàn Trung Nam tại Nhà máy ...   \n",
       "...                                                 ...   \n",
       "6089  Năm năm là mức thời gian bảo hành tối đa cho m...   \n",
       "6090               Ổ SSD có tốc độ xử lý cao hơn ổ HDD.   \n",
       "6091  Nhiều người dùng ổ cứng SSD để khai thác tiền ...   \n",
       "6092  Chia là một loại tiền ảo đang được rất nhiều n...   \n",
       "6093  Ở Trung Quốc, rất nhiều người đang cố gắng đào...   \n",
       "\n",
       "                                               negative  \n",
       "0     {Nhà máy Điện gió Trung Nam có 100% vốn cổ phầ...  \n",
       "1     {Nhà máy Điện gió Trung Nam có 100% vốn cổ phầ...  \n",
       "2     {Nhiều người mong muốn được giữ quyền điều hàn...  \n",
       "3     {Nhiều người mong muốn được giữ quyền điều hàn...  \n",
       "4     {Vốn của một công ty nước ngoài đang chiếm 49%...  \n",
       "...                                                 ...  \n",
       "6089  {Ổ cứng được bảo hành tại các cửa hàng đại lý ...  \n",
       "6090  {Ổ HDD được nhiều \"thợ đào\" Chia săn lùng vì t...  \n",
       "6091  {Ổ HDD được nhiều \"thợ đào\" Chia săn lùng vì t...  \n",
       "6092  {Đồng tiền kém sức hút nhất tại Trung Quốc đượ...  \n",
       "6093  {Đồng tiền kém sức hút nhất tại Trung Quốc đượ...  \n",
       "\n",
       "[6094 rows x 4 columns]"
      ]
     },
     "execution_count": 20,
     "metadata": {},
     "output_type": "execute_result"
    }
   ],
   "source": [
    "new_dataset_entail['negative'] = temp\n",
    "new_dataset_entail"
   ]
  },
  {
   "cell_type": "code",
   "execution_count": 21,
   "metadata": {},
   "outputs": [
    {
     "data": {
      "text/plain": [
       "Dataset({\n",
       "    features: ['gold_label', 'anchor', 'positive', 'negative'],\n",
       "    num_rows: 6094\n",
       "})"
      ]
     },
     "execution_count": 21,
     "metadata": {},
     "output_type": "execute_result"
    }
   ],
   "source": [
    "dataset = Dataset.from_pandas(new_dataset_entail)\n",
    "dataset = dataset.rename_column(\"sentence1\", \"anchor\")\n",
    "dataset = dataset.rename_column(\"sentence2\", \"positive\")\n",
    "dataset"
   ]
  },
  {
   "cell_type": "code",
   "execution_count": 23,
   "metadata": {},
   "outputs": [
    {
     "data": {
      "application/vnd.jupyter.widget-view+json": {
       "model_id": "f4bcda89e6314a91b9cfbe28133deb71",
       "version_major": 2,
       "version_minor": 0
      },
      "text/plain": [
       "Map:   0%|          | 0/6094 [00:00<?, ? examples/s]"
      ]
     },
     "metadata": {},
     "output_type": "display_data"
    },
    {
     "ename": "TypeError",
     "evalue": "Provided `function` which is applied to all elements of table returns a variable of type <class 'list'>. Make sure provided `function` returns a variable of type `dict` (or a pyarrow table) to update the dataset or `None` if you are only interested in side effects.",
     "output_type": "error",
     "traceback": [
      "\u001b[1;31m---------------------------------------------------------------------------\u001b[0m",
      "\u001b[1;31mTypeError\u001b[0m                                 Traceback (most recent call last)",
      "Cell \u001b[1;32mIn[23], line 14\u001b[0m\n\u001b[0;32m      4\u001b[0m         temp\u001b[38;5;241m.\u001b[39mappend(\n\u001b[0;32m      5\u001b[0m             {\n\u001b[0;32m      6\u001b[0m                 \u001b[38;5;124m'\u001b[39m\u001b[38;5;124mgold_label\u001b[39m\u001b[38;5;124m'\u001b[39m: example[\u001b[38;5;124m'\u001b[39m\u001b[38;5;124mgold_label\u001b[39m\u001b[38;5;124m'\u001b[39m], \n\u001b[1;32m   (...)\u001b[0m\n\u001b[0;32m     10\u001b[0m             }\n\u001b[0;32m     11\u001b[0m         )\n\u001b[0;32m     12\u001b[0m     \u001b[38;5;28;01mreturn\u001b[39;00m temp\n\u001b[1;32m---> 14\u001b[0m dataset \u001b[38;5;241m=\u001b[39m \u001b[43mdataset\u001b[49m\u001b[38;5;241;43m.\u001b[39;49m\u001b[43mmap\u001b[49m\u001b[43m(\u001b[49m\u001b[38;5;28;43;01mlambda\u001b[39;49;00m\u001b[43m \u001b[49m\u001b[43mexample\u001b[49m\u001b[43m:\u001b[49m\u001b[43m \u001b[49m\u001b[43mconvert_dataset\u001b[49m\u001b[43m(\u001b[49m\u001b[43mexample\u001b[49m\u001b[43m)\u001b[49m\u001b[43m,\u001b[49m\u001b[43m \u001b[49m\u001b[43mremove_columns\u001b[49m\u001b[38;5;241;43m=\u001b[39;49m\u001b[43m[\u001b[49m\u001b[38;5;124;43m'\u001b[39;49m\u001b[38;5;124;43mgold_label\u001b[39;49m\u001b[38;5;124;43m'\u001b[39;49m\u001b[43m,\u001b[49m\u001b[43m \u001b[49m\u001b[38;5;124;43m'\u001b[39;49m\u001b[38;5;124;43manchor\u001b[39;49m\u001b[38;5;124;43m'\u001b[39;49m\u001b[43m,\u001b[49m\u001b[43m \u001b[49m\u001b[38;5;124;43m'\u001b[39;49m\u001b[38;5;124;43mpositive\u001b[39;49m\u001b[38;5;124;43m'\u001b[39;49m\u001b[43m,\u001b[49m\u001b[43m \u001b[49m\u001b[38;5;124;43m'\u001b[39;49m\u001b[38;5;124;43mnegative\u001b[39;49m\u001b[38;5;124;43m'\u001b[39;49m\u001b[43m]\u001b[49m\u001b[43m)\u001b[49m\n\u001b[0;32m     15\u001b[0m \u001b[38;5;66;03m#     convert_dataset, \u001b[39;00m\n\u001b[0;32m     16\u001b[0m \u001b[38;5;66;03m#     remove_columns=['gold_label', 'anchor', 'positive', 'negative'],\u001b[39;00m\n\u001b[0;32m     17\u001b[0m \u001b[38;5;66;03m#     batched=True\u001b[39;00m\n\u001b[0;32m     18\u001b[0m \u001b[38;5;66;03m# )\u001b[39;00m\n",
      "File \u001b[1;32mc:\\Users\\nguye\\anaconda3\\envs\\data\\Lib\\site-packages\\datasets\\arrow_dataset.py:591\u001b[0m, in \u001b[0;36mtransmit_tasks.<locals>.wrapper\u001b[1;34m(*args, **kwargs)\u001b[0m\n\u001b[0;32m    589\u001b[0m     \u001b[38;5;28mself\u001b[39m: \u001b[38;5;124m\"\u001b[39m\u001b[38;5;124mDataset\u001b[39m\u001b[38;5;124m\"\u001b[39m \u001b[38;5;241m=\u001b[39m kwargs\u001b[38;5;241m.\u001b[39mpop(\u001b[38;5;124m\"\u001b[39m\u001b[38;5;124mself\u001b[39m\u001b[38;5;124m\"\u001b[39m)\n\u001b[0;32m    590\u001b[0m \u001b[38;5;66;03m# apply actual function\u001b[39;00m\n\u001b[1;32m--> 591\u001b[0m out: Union[\u001b[38;5;124m\"\u001b[39m\u001b[38;5;124mDataset\u001b[39m\u001b[38;5;124m\"\u001b[39m, \u001b[38;5;124m\"\u001b[39m\u001b[38;5;124mDatasetDict\u001b[39m\u001b[38;5;124m\"\u001b[39m] \u001b[38;5;241m=\u001b[39m \u001b[43mfunc\u001b[49m\u001b[43m(\u001b[49m\u001b[38;5;28;43mself\u001b[39;49m\u001b[43m,\u001b[49m\u001b[43m \u001b[49m\u001b[38;5;241;43m*\u001b[39;49m\u001b[43margs\u001b[49m\u001b[43m,\u001b[49m\u001b[43m \u001b[49m\u001b[38;5;241;43m*\u001b[39;49m\u001b[38;5;241;43m*\u001b[39;49m\u001b[43mkwargs\u001b[49m\u001b[43m)\u001b[49m\n\u001b[0;32m    592\u001b[0m datasets: List[\u001b[38;5;124m\"\u001b[39m\u001b[38;5;124mDataset\u001b[39m\u001b[38;5;124m\"\u001b[39m] \u001b[38;5;241m=\u001b[39m \u001b[38;5;28mlist\u001b[39m(out\u001b[38;5;241m.\u001b[39mvalues()) \u001b[38;5;28;01mif\u001b[39;00m \u001b[38;5;28misinstance\u001b[39m(out, \u001b[38;5;28mdict\u001b[39m) \u001b[38;5;28;01melse\u001b[39;00m [out]\n\u001b[0;32m    593\u001b[0m \u001b[38;5;28;01mfor\u001b[39;00m dataset \u001b[38;5;129;01min\u001b[39;00m datasets:\n\u001b[0;32m    594\u001b[0m     \u001b[38;5;66;03m# Remove task templates if a column mapping of the template is no longer valid\u001b[39;00m\n",
      "File \u001b[1;32mc:\\Users\\nguye\\anaconda3\\envs\\data\\Lib\\site-packages\\datasets\\arrow_dataset.py:556\u001b[0m, in \u001b[0;36mtransmit_format.<locals>.wrapper\u001b[1;34m(*args, **kwargs)\u001b[0m\n\u001b[0;32m    549\u001b[0m self_format \u001b[38;5;241m=\u001b[39m {\n\u001b[0;32m    550\u001b[0m     \u001b[38;5;124m\"\u001b[39m\u001b[38;5;124mtype\u001b[39m\u001b[38;5;124m\"\u001b[39m: \u001b[38;5;28mself\u001b[39m\u001b[38;5;241m.\u001b[39m_format_type,\n\u001b[0;32m    551\u001b[0m     \u001b[38;5;124m\"\u001b[39m\u001b[38;5;124mformat_kwargs\u001b[39m\u001b[38;5;124m\"\u001b[39m: \u001b[38;5;28mself\u001b[39m\u001b[38;5;241m.\u001b[39m_format_kwargs,\n\u001b[0;32m    552\u001b[0m     \u001b[38;5;124m\"\u001b[39m\u001b[38;5;124mcolumns\u001b[39m\u001b[38;5;124m\"\u001b[39m: \u001b[38;5;28mself\u001b[39m\u001b[38;5;241m.\u001b[39m_format_columns,\n\u001b[0;32m    553\u001b[0m     \u001b[38;5;124m\"\u001b[39m\u001b[38;5;124moutput_all_columns\u001b[39m\u001b[38;5;124m\"\u001b[39m: \u001b[38;5;28mself\u001b[39m\u001b[38;5;241m.\u001b[39m_output_all_columns,\n\u001b[0;32m    554\u001b[0m }\n\u001b[0;32m    555\u001b[0m \u001b[38;5;66;03m# apply actual function\u001b[39;00m\n\u001b[1;32m--> 556\u001b[0m out: Union[\u001b[38;5;124m\"\u001b[39m\u001b[38;5;124mDataset\u001b[39m\u001b[38;5;124m\"\u001b[39m, \u001b[38;5;124m\"\u001b[39m\u001b[38;5;124mDatasetDict\u001b[39m\u001b[38;5;124m\"\u001b[39m] \u001b[38;5;241m=\u001b[39m \u001b[43mfunc\u001b[49m\u001b[43m(\u001b[49m\u001b[38;5;28;43mself\u001b[39;49m\u001b[43m,\u001b[49m\u001b[43m \u001b[49m\u001b[38;5;241;43m*\u001b[39;49m\u001b[43margs\u001b[49m\u001b[43m,\u001b[49m\u001b[43m \u001b[49m\u001b[38;5;241;43m*\u001b[39;49m\u001b[38;5;241;43m*\u001b[39;49m\u001b[43mkwargs\u001b[49m\u001b[43m)\u001b[49m\n\u001b[0;32m    557\u001b[0m datasets: List[\u001b[38;5;124m\"\u001b[39m\u001b[38;5;124mDataset\u001b[39m\u001b[38;5;124m\"\u001b[39m] \u001b[38;5;241m=\u001b[39m \u001b[38;5;28mlist\u001b[39m(out\u001b[38;5;241m.\u001b[39mvalues()) \u001b[38;5;28;01mif\u001b[39;00m \u001b[38;5;28misinstance\u001b[39m(out, \u001b[38;5;28mdict\u001b[39m) \u001b[38;5;28;01melse\u001b[39;00m [out]\n\u001b[0;32m    558\u001b[0m \u001b[38;5;66;03m# re-apply format to the output\u001b[39;00m\n",
      "File \u001b[1;32mc:\\Users\\nguye\\anaconda3\\envs\\data\\Lib\\site-packages\\datasets\\arrow_dataset.py:3089\u001b[0m, in \u001b[0;36mDataset.map\u001b[1;34m(self, function, with_indices, with_rank, input_columns, batched, batch_size, drop_last_batch, remove_columns, keep_in_memory, load_from_cache_file, cache_file_name, writer_batch_size, features, disable_nullable, fn_kwargs, num_proc, suffix_template, new_fingerprint, desc)\u001b[0m\n\u001b[0;32m   3082\u001b[0m \u001b[38;5;28;01mif\u001b[39;00m transformed_dataset \u001b[38;5;129;01mis\u001b[39;00m \u001b[38;5;28;01mNone\u001b[39;00m:\n\u001b[0;32m   3083\u001b[0m     \u001b[38;5;28;01mwith\u001b[39;00m logging\u001b[38;5;241m.\u001b[39mtqdm(\n\u001b[0;32m   3084\u001b[0m         disable\u001b[38;5;241m=\u001b[39m\u001b[38;5;129;01mnot\u001b[39;00m logging\u001b[38;5;241m.\u001b[39mis_progress_bar_enabled(),\n\u001b[0;32m   3085\u001b[0m         unit\u001b[38;5;241m=\u001b[39m\u001b[38;5;124m\"\u001b[39m\u001b[38;5;124m examples\u001b[39m\u001b[38;5;124m\"\u001b[39m,\n\u001b[0;32m   3086\u001b[0m         total\u001b[38;5;241m=\u001b[39mpbar_total,\n\u001b[0;32m   3087\u001b[0m         desc\u001b[38;5;241m=\u001b[39mdesc \u001b[38;5;129;01mor\u001b[39;00m \u001b[38;5;124m\"\u001b[39m\u001b[38;5;124mMap\u001b[39m\u001b[38;5;124m\"\u001b[39m,\n\u001b[0;32m   3088\u001b[0m     ) \u001b[38;5;28;01mas\u001b[39;00m pbar:\n\u001b[1;32m-> 3089\u001b[0m \u001b[43m        \u001b[49m\u001b[38;5;28;43;01mfor\u001b[39;49;00m\u001b[43m \u001b[49m\u001b[43mrank\u001b[49m\u001b[43m,\u001b[49m\u001b[43m \u001b[49m\u001b[43mdone\u001b[49m\u001b[43m,\u001b[49m\u001b[43m \u001b[49m\u001b[43mcontent\u001b[49m\u001b[43m \u001b[49m\u001b[38;5;129;43;01min\u001b[39;49;00m\u001b[43m \u001b[49m\u001b[43mDataset\u001b[49m\u001b[38;5;241;43m.\u001b[39;49m\u001b[43m_map_single\u001b[49m\u001b[43m(\u001b[49m\u001b[38;5;241;43m*\u001b[39;49m\u001b[38;5;241;43m*\u001b[39;49m\u001b[43mdataset_kwargs\u001b[49m\u001b[43m)\u001b[49m\u001b[43m:\u001b[49m\n\u001b[0;32m   3090\u001b[0m \u001b[43m            \u001b[49m\u001b[38;5;28;43;01mif\u001b[39;49;00m\u001b[43m \u001b[49m\u001b[43mdone\u001b[49m\u001b[43m:\u001b[49m\n\u001b[0;32m   3091\u001b[0m \u001b[43m                \u001b[49m\u001b[43mshards_done\u001b[49m\u001b[43m \u001b[49m\u001b[38;5;241;43m+\u001b[39;49m\u001b[38;5;241;43m=\u001b[39;49m\u001b[43m \u001b[49m\u001b[38;5;241;43m1\u001b[39;49m\n",
      "File \u001b[1;32mc:\\Users\\nguye\\anaconda3\\envs\\data\\Lib\\site-packages\\datasets\\arrow_dataset.py:3442\u001b[0m, in \u001b[0;36mDataset._map_single\u001b[1;34m(shard, function, with_indices, with_rank, input_columns, batched, batch_size, drop_last_batch, remove_columns, keep_in_memory, cache_file_name, writer_batch_size, features, disable_nullable, fn_kwargs, new_fingerprint, rank, offset)\u001b[0m\n\u001b[0;32m   3440\u001b[0m _time \u001b[38;5;241m=\u001b[39m time\u001b[38;5;241m.\u001b[39mtime()\n\u001b[0;32m   3441\u001b[0m \u001b[38;5;28;01mfor\u001b[39;00m i, example \u001b[38;5;129;01min\u001b[39;00m shard_iterable:\n\u001b[1;32m-> 3442\u001b[0m     example \u001b[38;5;241m=\u001b[39m \u001b[43mapply_function_on_filtered_inputs\u001b[49m\u001b[43m(\u001b[49m\u001b[43mexample\u001b[49m\u001b[43m,\u001b[49m\u001b[43m \u001b[49m\u001b[43mi\u001b[49m\u001b[43m,\u001b[49m\u001b[43m \u001b[49m\u001b[43moffset\u001b[49m\u001b[38;5;241;43m=\u001b[39;49m\u001b[43moffset\u001b[49m\u001b[43m)\u001b[49m\n\u001b[0;32m   3443\u001b[0m     \u001b[38;5;28;01mif\u001b[39;00m update_data:\n\u001b[0;32m   3444\u001b[0m         \u001b[38;5;28;01mif\u001b[39;00m i \u001b[38;5;241m==\u001b[39m \u001b[38;5;241m0\u001b[39m:\n",
      "File \u001b[1;32mc:\\Users\\nguye\\anaconda3\\envs\\data\\Lib\\site-packages\\datasets\\arrow_dataset.py:3356\u001b[0m, in \u001b[0;36mDataset._map_single.<locals>.apply_function_on_filtered_inputs\u001b[1;34m(pa_inputs, indices, check_same_num_examples, offset)\u001b[0m\n\u001b[0;32m   3353\u001b[0m \u001b[38;5;28;01mif\u001b[39;00m update_data \u001b[38;5;129;01mis\u001b[39;00m \u001b[38;5;28;01mNone\u001b[39;00m:\n\u001b[0;32m   3354\u001b[0m     \u001b[38;5;66;03m# Check if the function returns updated examples\u001b[39;00m\n\u001b[0;32m   3355\u001b[0m     update_data \u001b[38;5;241m=\u001b[39m \u001b[38;5;28misinstance\u001b[39m(processed_inputs, (Mapping, pa\u001b[38;5;241m.\u001b[39mTable, pd\u001b[38;5;241m.\u001b[39mDataFrame))\n\u001b[1;32m-> 3356\u001b[0m     \u001b[43mvalidate_function_output\u001b[49m\u001b[43m(\u001b[49m\u001b[43mprocessed_inputs\u001b[49m\u001b[43m,\u001b[49m\u001b[43m \u001b[49m\u001b[43mindices\u001b[49m\u001b[43m)\u001b[49m\n\u001b[0;32m   3357\u001b[0m \u001b[38;5;28;01mif\u001b[39;00m \u001b[38;5;129;01mnot\u001b[39;00m update_data:\n\u001b[0;32m   3358\u001b[0m     \u001b[38;5;28;01mreturn\u001b[39;00m \u001b[38;5;28;01mNone\u001b[39;00m  \u001b[38;5;66;03m# Nothing to update, let's move on\u001b[39;00m\n",
      "File \u001b[1;32mc:\\Users\\nguye\\anaconda3\\envs\\data\\Lib\\site-packages\\datasets\\arrow_dataset.py:3301\u001b[0m, in \u001b[0;36mDataset._map_single.<locals>.validate_function_output\u001b[1;34m(processed_inputs, indices)\u001b[0m\n\u001b[0;32m   3299\u001b[0m \u001b[38;5;250m\u001b[39m\u001b[38;5;124;03m\"\"\"Validate output of the map function.\"\"\"\u001b[39;00m\n\u001b[0;32m   3300\u001b[0m \u001b[38;5;28;01mif\u001b[39;00m processed_inputs \u001b[38;5;129;01mis\u001b[39;00m \u001b[38;5;129;01mnot\u001b[39;00m \u001b[38;5;28;01mNone\u001b[39;00m \u001b[38;5;129;01mand\u001b[39;00m \u001b[38;5;129;01mnot\u001b[39;00m \u001b[38;5;28misinstance\u001b[39m(processed_inputs, (Mapping, pa\u001b[38;5;241m.\u001b[39mTable, pd\u001b[38;5;241m.\u001b[39mDataFrame)):\n\u001b[1;32m-> 3301\u001b[0m     \u001b[38;5;28;01mraise\u001b[39;00m \u001b[38;5;167;01mTypeError\u001b[39;00m(\n\u001b[0;32m   3302\u001b[0m         \u001b[38;5;124mf\u001b[39m\u001b[38;5;124m\"\u001b[39m\u001b[38;5;124mProvided `function` which is applied to all elements of table returns a variable of type \u001b[39m\u001b[38;5;132;01m{\u001b[39;00m\u001b[38;5;28mtype\u001b[39m(processed_inputs)\u001b[38;5;132;01m}\u001b[39;00m\u001b[38;5;124m. Make sure provided `function` returns a variable of type `dict` (or a pyarrow table) to update the dataset or `None` if you are only interested in side effects.\u001b[39m\u001b[38;5;124m\"\u001b[39m\n\u001b[0;32m   3303\u001b[0m     )\n\u001b[0;32m   3304\u001b[0m \u001b[38;5;28;01melif\u001b[39;00m \u001b[38;5;28misinstance\u001b[39m(indices, \u001b[38;5;28mlist\u001b[39m) \u001b[38;5;129;01mand\u001b[39;00m \u001b[38;5;28misinstance\u001b[39m(processed_inputs, Mapping):\n\u001b[0;32m   3305\u001b[0m     allowed_batch_return_types \u001b[38;5;241m=\u001b[39m (\u001b[38;5;28mlist\u001b[39m, np\u001b[38;5;241m.\u001b[39mndarray, pd\u001b[38;5;241m.\u001b[39mSeries)\n",
      "\u001b[1;31mTypeError\u001b[0m: Provided `function` which is applied to all elements of table returns a variable of type <class 'list'>. Make sure provided `function` returns a variable of type `dict` (or a pyarrow table) to update the dataset or `None` if you are only interested in side effects."
     ]
    }
   ],
   "source": [
    "def convert_dataset(example):\n",
    "    temp = []\n",
    "    for i in example['negative']:\n",
    "        temp.append(\n",
    "            {\n",
    "                'gold_label': example['gold_label'], \n",
    "                'anchor': example['anchor'], \n",
    "                'positive': example['positive'], \n",
    "                'negative': i\n",
    "            }\n",
    "        )\n",
    "    negative = \n",
    "    return temp\n",
    "        \n",
    "dataset = dataset.map(lambda example: convert_dataset(example), remove_columns=['gold_label', 'anchor', 'positive', 'negative'])\n",
    "#     convert_dataset, \n",
    "#     remove_columns=['gold_label', 'anchor', 'positive', 'negative'],\n",
    "#     batched=True\n",
    "# )"
   ]
  },
  {
   "cell_type": "code",
   "execution_count": 58,
   "metadata": {},
   "outputs": [
    {
     "data": {
      "text/plain": [
       "Dataset({\n",
       "    features: [],\n",
       "    num_rows: 0\n",
       "})"
      ]
     },
     "execution_count": 58,
     "metadata": {},
     "output_type": "execute_result"
    }
   ],
   "source": [
    "dataset"
   ]
  }
 ],
 "metadata": {
  "kernelspec": {
   "display_name": "Python 3",
   "language": "python",
   "name": "python3"
  },
  "language_info": {
   "codemirror_mode": {
    "name": "ipython",
    "version": 3
   },
   "file_extension": ".py",
   "mimetype": "text/x-python",
   "name": "python",
   "nbconvert_exporter": "python",
   "pygments_lexer": "ipython3",
   "version": "3.11.0"
  }
 },
 "nbformat": 4,
 "nbformat_minor": 2
}
