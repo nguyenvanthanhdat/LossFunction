{
 "cells": [
  {
   "cell_type": "code",
   "execution_count": 2,
   "metadata": {},
   "outputs": [],
   "source": [
    "from datasets import load_dataset\n",
    "from tqdm import tqdm"
   ]
  },
  {
   "cell_type": "code",
   "execution_count": 3,
   "metadata": {},
   "outputs": [],
   "source": [
    "data_files = {}\n",
    "prefix = '../data/multinli/multinli_1.0_{split}.jsonl'\n",
    "for split in ['train', 'dev_matched', 'dev_mismatched']:\n",
    "    data_files[split] = prefix.format(split=split)"
   ]
  },
  {
   "cell_type": "code",
   "execution_count": 4,
   "metadata": {},
   "outputs": [
    {
     "data": {
      "application/vnd.jupyter.widget-view+json": {
       "model_id": "65618d3e5f75496d828981c7e22c161b",
       "version_major": 2,
       "version_minor": 0
      },
      "text/plain": [
       "Generating train split: 0 examples [00:00, ? examples/s]"
      ]
     },
     "metadata": {},
     "output_type": "display_data"
    },
    {
     "data": {
      "application/vnd.jupyter.widget-view+json": {
       "model_id": "c5823bcab6254cc68c826093d6ea415a",
       "version_major": 2,
       "version_minor": 0
      },
      "text/plain": [
       "Generating dev_matched split: 0 examples [00:00, ? examples/s]"
      ]
     },
     "metadata": {},
     "output_type": "display_data"
    },
    {
     "data": {
      "application/vnd.jupyter.widget-view+json": {
       "model_id": "ec19996729234d0c95cd57dabd73c088",
       "version_major": 2,
       "version_minor": 0
      },
      "text/plain": [
       "Generating dev_mismatched split: 0 examples [00:00, ? examples/s]"
      ]
     },
     "metadata": {},
     "output_type": "display_data"
    },
    {
     "data": {
      "text/plain": [
       "DatasetDict({\n",
       "    train: Dataset({\n",
       "        features: ['gold_label', 'sentence1', 'sentence2'],\n",
       "        num_rows: 392702\n",
       "    })\n",
       "    dev_matched: Dataset({\n",
       "        features: ['gold_label', 'sentence1', 'sentence2'],\n",
       "        num_rows: 10000\n",
       "    })\n",
       "    dev_mismatched: Dataset({\n",
       "        features: ['gold_label', 'sentence1', 'sentence2'],\n",
       "        num_rows: 10000\n",
       "    })\n",
       "})"
      ]
     },
     "execution_count": 4,
     "metadata": {},
     "output_type": "execute_result"
    }
   ],
   "source": [
    "dataset = load_dataset(\"json\", data_files=data_files)\n",
    "dataset = dataset.remove_columns(\n",
    "    [\n",
    "        'annotator_labels', 'genre', 'pairID', 'promptID', 'sentence1_binary_parse', 'sentence1_parse',\n",
    "        'sentence2_binary_parse', 'sentence2_parse'\n",
    "    ]\n",
    ")\n",
    "dataset"
   ]
  },
  {
   "cell_type": "code",
   "execution_count": 5,
   "metadata": {},
   "outputs": [
    {
     "name": "stderr",
     "output_type": "stream",
     "text": [
      "100%|██████████| 392702/392702 [00:09<00:00, 39910.78it/s]\n",
      "100%|██████████| 10000/10000 [00:00<00:00, 43205.19it/s]\n",
      "100%|██████████| 10000/10000 [00:00<00:00, 46354.66it/s]\n"
     ]
    },
    {
     "data": {
      "text/plain": [
       "{'-', 'contradiction', 'entailment', 'neutral'}"
      ]
     },
     "execution_count": 5,
     "metadata": {},
     "output_type": "execute_result"
    }
   ],
   "source": [
    "label_set = set()\n",
    "for split in dataset:\n",
    "    for i in tqdm(dataset[split]):\n",
    "        label_set.add(i['gold_label'])\n",
    "label_set"
   ]
  },
  {
   "cell_type": "code",
   "execution_count": 6,
   "metadata": {},
   "outputs": [
    {
     "data": {
      "application/vnd.jupyter.widget-view+json": {
       "model_id": "489bc64e8c9041f49082616db237c803",
       "version_major": 2,
       "version_minor": 0
      },
      "text/plain": [
       "Filter:   0%|          | 0/392702 [00:00<?, ? examples/s]"
      ]
     },
     "metadata": {},
     "output_type": "display_data"
    },
    {
     "data": {
      "application/vnd.jupyter.widget-view+json": {
       "model_id": "e74ee1378ecb4e638701fa4c3cb7c4c6",
       "version_major": 2,
       "version_minor": 0
      },
      "text/plain": [
       "Filter:   0%|          | 0/10000 [00:00<?, ? examples/s]"
      ]
     },
     "metadata": {},
     "output_type": "display_data"
    },
    {
     "data": {
      "application/vnd.jupyter.widget-view+json": {
       "model_id": "4e94e86cd02148459ce35195e155d9bb",
       "version_major": 2,
       "version_minor": 0
      },
      "text/plain": [
       "Filter:   0%|          | 0/10000 [00:00<?, ? examples/s]"
      ]
     },
     "metadata": {},
     "output_type": "display_data"
    }
   ],
   "source": [
    "dataset_3_label = dataset.filter(lambda example: example[\"gold_label\"] in ['entailment', 'contradiction', 'neutral'])"
   ]
  },
  {
   "cell_type": "code",
   "execution_count": 7,
   "metadata": {},
   "outputs": [],
   "source": [
    "# dataset_3_label.push_to_hub('multinli', private=True)"
   ]
  },
  {
   "cell_type": "code",
   "execution_count": 9,
   "metadata": {},
   "outputs": [
    {
     "data": {
      "text/plain": [
       "DatasetDict({\n",
       "    train: Dataset({\n",
       "        features: ['gold_label', 'sentence1', 'sentence2'],\n",
       "        num_rows: 392702\n",
       "    })\n",
       "    dev_matched: Dataset({\n",
       "        features: ['gold_label', 'sentence1', 'sentence2'],\n",
       "        num_rows: 9815\n",
       "    })\n",
       "    dev_mismatched: Dataset({\n",
       "        features: ['gold_label', 'sentence1', 'sentence2'],\n",
       "        num_rows: 9832\n",
       "    })\n",
       "})"
      ]
     },
     "execution_count": 9,
     "metadata": {},
     "output_type": "execute_result"
    }
   ],
   "source": [
    "# TODO: convert dataset multi-nli to 2 sub dataset\n",
    "dataset = load_dataset(\"presencesw/multinli\")\n",
    "dataset"
   ]
  },
  {
   "cell_type": "code",
   "execution_count": 10,
   "metadata": {},
   "outputs": [
    {
     "data": {
      "application/vnd.jupyter.widget-view+json": {
       "model_id": "82f65fe5c4844c8a979d8932bb310463",
       "version_major": 2,
       "version_minor": 0
      },
      "text/plain": [
       "Uploading the dataset shards:   0%|          | 0/1 [00:00<?, ?it/s]"
      ]
     },
     "metadata": {},
     "output_type": "display_data"
    },
    {
     "data": {
      "application/vnd.jupyter.widget-view+json": {
       "model_id": "3ae6e058a1494a9c97fca10daed979a4",
       "version_major": 2,
       "version_minor": 0
      },
      "text/plain": [
       "Creating parquet from Arrow format:   0%|          | 0/393 [00:00<?, ?ba/s]"
      ]
     },
     "metadata": {},
     "output_type": "display_data"
    },
    {
     "data": {
      "application/vnd.jupyter.widget-view+json": {
       "model_id": "c5e23c01a1c84e08858adbf28403de70",
       "version_major": 2,
       "version_minor": 0
      },
      "text/plain": [
       "Uploading the dataset shards:   0%|          | 0/1 [00:00<?, ?it/s]"
      ]
     },
     "metadata": {},
     "output_type": "display_data"
    },
    {
     "data": {
      "application/vnd.jupyter.widget-view+json": {
       "model_id": "bdeb4783c2244ebc830e2bf4b4047d7c",
       "version_major": 2,
       "version_minor": 0
      },
      "text/plain": [
       "Creating parquet from Arrow format:   0%|          | 0/10 [00:00<?, ?ba/s]"
      ]
     },
     "metadata": {},
     "output_type": "display_data"
    },
    {
     "data": {
      "application/vnd.jupyter.widget-view+json": {
       "model_id": "ff15f241f4734e509e2c0a35eb934e1b",
       "version_major": 2,
       "version_minor": 0
      },
      "text/plain": [
       "Uploading the dataset shards:   0%|          | 0/1 [00:00<?, ?it/s]"
      ]
     },
     "metadata": {},
     "output_type": "display_data"
    },
    {
     "data": {
      "application/vnd.jupyter.widget-view+json": {
       "model_id": "004bd0051fff415cb3afddd79e9c6ee8",
       "version_major": 2,
       "version_minor": 0
      },
      "text/plain": [
       "Creating parquet from Arrow format:   0%|          | 0/393 [00:00<?, ?ba/s]"
      ]
     },
     "metadata": {},
     "output_type": "display_data"
    },
    {
     "data": {
      "application/vnd.jupyter.widget-view+json": {
       "model_id": "b4ed1286da804bb6aeccc797a3280bfb",
       "version_major": 2,
       "version_minor": 0
      },
      "text/plain": [
       "Uploading the dataset shards:   0%|          | 0/1 [00:00<?, ?it/s]"
      ]
     },
     "metadata": {},
     "output_type": "display_data"
    },
    {
     "data": {
      "application/vnd.jupyter.widget-view+json": {
       "model_id": "3cf4b52b6e1a46f38481a7f522696e09",
       "version_major": 2,
       "version_minor": 0
      },
      "text/plain": [
       "Creating parquet from Arrow format:   0%|          | 0/10 [00:00<?, ?ba/s]"
      ]
     },
     "metadata": {},
     "output_type": "display_data"
    },
    {
     "data": {
      "text/plain": [
       "CommitInfo(commit_url='https://huggingface.co/datasets/presencesw/multinli_mismatched/commit/2137da4ecb6e213bdcc59bd7bf48c71d282b1437', commit_message='Upload dataset', commit_description='', oid='2137da4ecb6e213bdcc59bd7bf48c71d282b1437', pr_url=None, pr_revision=None, pr_num=None)"
      ]
     },
     "execution_count": 10,
     "metadata": {},
     "output_type": "execute_result"
    }
   ],
   "source": [
    "from datasets import DatasetDict\n",
    "dataset_matched = DatasetDict()\n",
    "dataset_matched['train'] = dataset['train']\n",
    "dataset_matched['dev'] = dataset['dev_matched']\n",
    "\n",
    "dataset_mismatched = DatasetDict()\n",
    "dataset_mismatched['train'] = dataset['train']\n",
    "dataset_mismatched['dev'] = dataset['dev_mismatched']\n",
    "\n",
    "dataset_matched.push_to_hub(\"multinli_matched\")\n",
    "dataset_mismatched.push_to_hub(\"multinli_mismatched\")"
   ]
  }
 ],
 "metadata": {
  "kernelspec": {
   "display_name": "Python 3",
   "language": "python",
   "name": "python3"
  },
  "language_info": {
   "codemirror_mode": {
    "name": "ipython",
    "version": 3
   },
   "file_extension": ".py",
   "mimetype": "text/x-python",
   "name": "python",
   "nbconvert_exporter": "python",
   "pygments_lexer": "ipython3",
   "version": "3.11.7"
  }
 },
 "nbformat": 4,
 "nbformat_minor": 2
}
