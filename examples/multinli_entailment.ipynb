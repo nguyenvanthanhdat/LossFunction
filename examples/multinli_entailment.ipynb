{
 "cells": [
  {
   "cell_type": "code",
   "execution_count": 1,
   "metadata": {},
   "outputs": [],
   "source": [
    "from datasets import load_dataset, DatasetDict, Dataset, load_from_disk\n",
    "import pandas\n",
    "from tqdm import tqdm"
   ]
  },
  {
   "cell_type": "code",
   "execution_count": 2,
   "metadata": {},
   "outputs": [],
   "source": [
    "dataset_name = \"presencesw/multinli\"\n",
    "label = 'entailment'\n",
    "dataset = load_dataset(dataset_name)"
   ]
  },
  {
   "cell_type": "code",
   "execution_count": 3,
   "metadata": {},
   "outputs": [],
   "source": [
    "# dataset['train'][:10]"
   ]
  },
  {
   "cell_type": "code",
   "execution_count": 4,
   "metadata": {},
   "outputs": [
    {
     "name": "stdout",
     "output_type": "stream",
     "text": [
      "DatasetDict({\n",
      "    train: Dataset({\n",
      "        features: ['gold_label', 'sentence1', 'sentence2'],\n",
      "        num_rows: 392702\n",
      "    })\n",
      "    dev_matched: Dataset({\n",
      "        features: ['gold_label', 'sentence1', 'sentence2'],\n",
      "        num_rows: 9815\n",
      "    })\n",
      "    dev_mismatched: Dataset({\n",
      "        features: ['gold_label', 'sentence1', 'sentence2'],\n",
      "        num_rows: 9832\n",
      "    })\n",
      "})\n"
     ]
    }
   ],
   "source": [
    "print(dataset)"
   ]
  },
  {
   "cell_type": "code",
   "execution_count": 5,
   "metadata": {},
   "outputs": [],
   "source": [
    "def convert_entailment(exmaples):\n",
    "    labels = exmaples['gold_label']\n",
    "    labels = [f\"not_{label}\" if i != label else label for i in labels]\n",
    "    exmaples['gold_label'] = labels\n",
    "    return exmaples"
   ]
  },
  {
   "cell_type": "code",
   "execution_count": 6,
   "metadata": {},
   "outputs": [
    {
     "data": {
      "text/plain": [
       "Dataset({\n",
       "    features: ['gold_label', 'sentence1', 'sentence2'],\n",
       "    num_rows: 392702\n",
       "})"
      ]
     },
     "execution_count": 6,
     "metadata": {},
     "output_type": "execute_result"
    }
   ],
   "source": [
    "# this step convert dataset to 2 labels\n",
    "converted_dataset = dataset.map(convert_entailment, batched=True)\n",
    "\n",
    "# check number samples in dataset train\n",
    "converted_dataset['train']"
   ]
  },
  {
   "cell_type": "code",
   "execution_count": 7,
   "metadata": {},
   "outputs": [],
   "source": [
    "# Divine the dataset to 2 sets `entailment` and `not entailment`\n",
    "new_dataset_entail = converted_dataset.filter(lambda example: example['gold_label'] == label)['train']\n",
    "new_dataset_not_entail = converted_dataset.filter(lambda example: example['gold_label'] == f'not_{label}')['train']"
   ]
  },
  {
   "cell_type": "code",
   "execution_count": 8,
   "metadata": {},
   "outputs": [],
   "source": [
    "# convert dataset to pandas for next step\n",
    "new_dataset_entail = Dataset.to_pandas(new_dataset_entail)\n",
    "# duplicate dataset not entailment\n",
    "new_dataset_not_entail1 = Dataset.to_pandas(new_dataset_not_entail)\n",
    "new_dataset_not_entail2 = Dataset.to_pandas(new_dataset_not_entail)"
   ]
  },
  {
   "cell_type": "code",
   "execution_count": 9,
   "metadata": {},
   "outputs": [
    {
     "name": "stderr",
     "output_type": "stream",
     "text": [
      "  0%|          | 0/261803 [00:00<?, ?it/s]"
     ]
    },
    {
     "name": "stderr",
     "output_type": "stream",
     "text": [
      "100%|██████████| 261803/261803 [00:25<00:00, 10292.51it/s]\n"
     ]
    }
   ],
   "source": [
    "# merge 2 dataset not entailment for the target\n",
    "j = 0\n",
    "for i in tqdm(range(len(new_dataset_not_entail1))):\n",
    "    temp = set()\n",
    "    # check = False\n",
    "    # for j in range(len(new_dataset_not_entail2)):\n",
    "    for index in range(100):\n",
    "        new_j = j + index\n",
    "        if new_j == len(new_dataset_not_entail1):\n",
    "            j = new_j\n",
    "            break\n",
    "        if new_dataset_not_entail1.iloc[i]['sentence1'] != new_dataset_not_entail2.iloc[new_j]['sentence1']:\n",
    "            j = new_j\n",
    "            break\n",
    "        temp.add(new_dataset_not_entail2.iloc[new_j]['sentence2'])\n",
    "    # new_dataset_not_entail1.iloc[i]['sentence2'] = temp\n",
    "    # temp = [val for val in temp]\n",
    "    new_dataset_not_entail1.at[i, 'sentence2'] = temp"
   ]
  },
  {
   "cell_type": "code",
   "execution_count": 10,
   "metadata": {},
   "outputs": [
    {
     "name": "stdout",
     "output_type": "stream",
     "text": [
      "261799\n"
     ]
    }
   ],
   "source": [
    "# dataset_not_entail = new_dataset_not_entail1.drop_duplicates(subset=['sentence2'])\n",
    "# print(len(dataset_not_entail))\n",
    "dataset_not_entail = new_dataset_not_entail1[new_dataset_not_entail1['sentence2'] != set()]\n",
    "print(len(dataset_not_entail))"
   ]
  },
  {
   "cell_type": "code",
   "execution_count": 11,
   "metadata": {},
   "outputs": [
    {
     "data": {
      "text/html": [
       "<div>\n",
       "<style scoped>\n",
       "    .dataframe tbody tr th:only-of-type {\n",
       "        vertical-align: middle;\n",
       "    }\n",
       "\n",
       "    .dataframe tbody tr th {\n",
       "        vertical-align: top;\n",
       "    }\n",
       "\n",
       "    .dataframe thead th {\n",
       "        text-align: right;\n",
       "    }\n",
       "</style>\n",
       "<table border=\"1\" class=\"dataframe\">\n",
       "  <thead>\n",
       "    <tr style=\"text-align: right;\">\n",
       "      <th></th>\n",
       "      <th>gold_label</th>\n",
       "      <th>sentence1</th>\n",
       "      <th>sentence2</th>\n",
       "    </tr>\n",
       "  </thead>\n",
       "  <tbody>\n",
       "    <tr>\n",
       "      <th>0</th>\n",
       "      <td>not_entailment</td>\n",
       "      <td>Conceptually cream skimming has two basic dime...</td>\n",
       "      <td>{Product and geography are what make cream ski...</td>\n",
       "    </tr>\n",
       "    <tr>\n",
       "      <th>1</th>\n",
       "      <td>not_entailment</td>\n",
       "      <td>yeah i tell you what though if you go price so...</td>\n",
       "      <td>{The tennis shoes have a range of prices.}</td>\n",
       "    </tr>\n",
       "    <tr>\n",
       "      <th>2</th>\n",
       "      <td>not_entailment</td>\n",
       "      <td>But a few Christian mosaics survive above the ...</td>\n",
       "      <td>{Most of the Christian mosaics were destroyed ...</td>\n",
       "    </tr>\n",
       "    <tr>\n",
       "      <th>3</th>\n",
       "      <td>not_entailment</td>\n",
       "      <td>Gays and lesbians.</td>\n",
       "      <td>{Heterosexuals.}</td>\n",
       "    </tr>\n",
       "    <tr>\n",
       "      <th>4</th>\n",
       "      <td>not_entailment</td>\n",
       "      <td>At the end of Rue des Francs-Bourgeois is what...</td>\n",
       "      <td>{Place des Vosges is constructed entirely of g...</td>\n",
       "    </tr>\n",
       "    <tr>\n",
       "      <th>...</th>\n",
       "      <td>...</td>\n",
       "      <td>...</td>\n",
       "      <td>...</td>\n",
       "    </tr>\n",
       "    <tr>\n",
       "      <th>261794</th>\n",
       "      <td>not_entailment</td>\n",
       "      <td>Legacy, predicting that he will keep custody o...</td>\n",
       "      <td>{His children love their father and it's a gre...</td>\n",
       "    </tr>\n",
       "    <tr>\n",
       "      <th>261795</th>\n",
       "      <td>not_entailment</td>\n",
       "      <td>Clearly, California can - and must - do better.</td>\n",
       "      <td>{California cannot do any better.}</td>\n",
       "    </tr>\n",
       "    <tr>\n",
       "      <th>261796</th>\n",
       "      <td>not_entailment</td>\n",
       "      <td>It was once regarded as the most beautiful str...</td>\n",
       "      <td>{So many of the original buildings had been re...</td>\n",
       "    </tr>\n",
       "    <tr>\n",
       "      <th>261797</th>\n",
       "      <td>not_entailment</td>\n",
       "      <td>Obituaries fondly recalled his on-air debates ...</td>\n",
       "      <td>{The obituaries were beautiful and written in ...</td>\n",
       "    </tr>\n",
       "    <tr>\n",
       "      <th>261798</th>\n",
       "      <td>not_entailment</td>\n",
       "      <td>in that other you know uh that i should do it ...</td>\n",
       "      <td>{My husband has been so overworked lately that...</td>\n",
       "    </tr>\n",
       "  </tbody>\n",
       "</table>\n",
       "<p>261799 rows × 3 columns</p>\n",
       "</div>"
      ],
      "text/plain": [
       "            gold_label                                          sentence1  \\\n",
       "0       not_entailment  Conceptually cream skimming has two basic dime...   \n",
       "1       not_entailment  yeah i tell you what though if you go price so...   \n",
       "2       not_entailment  But a few Christian mosaics survive above the ...   \n",
       "3       not_entailment                                 Gays and lesbians.   \n",
       "4       not_entailment  At the end of Rue des Francs-Bourgeois is what...   \n",
       "...                ...                                                ...   \n",
       "261794  not_entailment  Legacy, predicting that he will keep custody o...   \n",
       "261795  not_entailment    Clearly, California can - and must - do better.   \n",
       "261796  not_entailment  It was once regarded as the most beautiful str...   \n",
       "261797  not_entailment  Obituaries fondly recalled his on-air debates ...   \n",
       "261798  not_entailment  in that other you know uh that i should do it ...   \n",
       "\n",
       "                                                sentence2  \n",
       "0       {Product and geography are what make cream ski...  \n",
       "1              {The tennis shoes have a range of prices.}  \n",
       "2       {Most of the Christian mosaics were destroyed ...  \n",
       "3                                        {Heterosexuals.}  \n",
       "4       {Place des Vosges is constructed entirely of g...  \n",
       "...                                                   ...  \n",
       "261794  {His children love their father and it's a gre...  \n",
       "261795                 {California cannot do any better.}  \n",
       "261796  {So many of the original buildings had been re...  \n",
       "261797  {The obituaries were beautiful and written in ...  \n",
       "261798  {My husband has been so overworked lately that...  \n",
       "\n",
       "[261799 rows x 3 columns]"
      ]
     },
     "execution_count": 11,
     "metadata": {},
     "output_type": "execute_result"
    }
   ],
   "source": [
    "dataset_not_entail = dataset_not_entail.reset_index(drop=True)\n",
    "dataset_not_entail"
   ]
  },
  {
   "cell_type": "code",
   "execution_count": 12,
   "metadata": {},
   "outputs": [
    {
     "data": {
      "text/html": [
       "<div>\n",
       "<style scoped>\n",
       "    .dataframe tbody tr th:only-of-type {\n",
       "        vertical-align: middle;\n",
       "    }\n",
       "\n",
       "    .dataframe tbody tr th {\n",
       "        vertical-align: top;\n",
       "    }\n",
       "\n",
       "    .dataframe thead th {\n",
       "        text-align: right;\n",
       "    }\n",
       "</style>\n",
       "<table border=\"1\" class=\"dataframe\">\n",
       "  <thead>\n",
       "    <tr style=\"text-align: right;\">\n",
       "      <th></th>\n",
       "      <th>gold_label</th>\n",
       "      <th>sentence1</th>\n",
       "      <th>sentence2</th>\n",
       "    </tr>\n",
       "  </thead>\n",
       "  <tbody>\n",
       "    <tr>\n",
       "      <th>0</th>\n",
       "      <td>entailment</td>\n",
       "      <td>you know during the season and i guess at at y...</td>\n",
       "      <td>You lose the things to the following level if ...</td>\n",
       "    </tr>\n",
       "    <tr>\n",
       "      <th>1</th>\n",
       "      <td>entailment</td>\n",
       "      <td>One of our number will carry out your instruct...</td>\n",
       "      <td>A member of my team will execute your orders w...</td>\n",
       "    </tr>\n",
       "    <tr>\n",
       "      <th>2</th>\n",
       "      <td>entailment</td>\n",
       "      <td>How do you know? All this is their information...</td>\n",
       "      <td>This information belongs to them.</td>\n",
       "    </tr>\n",
       "    <tr>\n",
       "      <th>3</th>\n",
       "      <td>entailment</td>\n",
       "      <td>my walkman broke so i'm upset now i just have ...</td>\n",
       "      <td>I'm upset that my walkman broke and now I have...</td>\n",
       "    </tr>\n",
       "    <tr>\n",
       "      <th>4</th>\n",
       "      <td>entailment</td>\n",
       "      <td>(Read  for Slate 's take on Jackson's findings.)</td>\n",
       "      <td>Slate had an opinion on Jackson's findings.</td>\n",
       "    </tr>\n",
       "    <tr>\n",
       "      <th>...</th>\n",
       "      <td>...</td>\n",
       "      <td>...</td>\n",
       "      <td>...</td>\n",
       "    </tr>\n",
       "    <tr>\n",
       "      <th>130894</th>\n",
       "      <td>entailment</td>\n",
       "      <td>Dolly Parton's breast implants against Mark Mc...</td>\n",
       "      <td>Dolly Parton's breast implants contrasting Mar...</td>\n",
       "    </tr>\n",
       "    <tr>\n",
       "      <th>130895</th>\n",
       "      <td>entailment</td>\n",
       "      <td>The New Radicals sound like Todd Rundgren has ...</td>\n",
       "      <td>The New Radicals sound like Todd Rundgren.</td>\n",
       "    </tr>\n",
       "    <tr>\n",
       "      <th>130896</th>\n",
       "      <td>entailment</td>\n",
       "      <td>If you would like to scale the highest heights...</td>\n",
       "      <td>Some lessons and advice are a good idea if you...</td>\n",
       "    </tr>\n",
       "    <tr>\n",
       "      <th>130897</th>\n",
       "      <td>entailment</td>\n",
       "      <td>Drawing a blank?</td>\n",
       "      <td>You can be drawing a blank.</td>\n",
       "    </tr>\n",
       "    <tr>\n",
       "      <th>130898</th>\n",
       "      <td>entailment</td>\n",
       "      <td>Houseboats are a beautifully preserved traditi...</td>\n",
       "      <td>The tradition of houseboats originated while t...</td>\n",
       "    </tr>\n",
       "  </tbody>\n",
       "</table>\n",
       "<p>130899 rows × 3 columns</p>\n",
       "</div>"
      ],
      "text/plain": [
       "        gold_label                                          sentence1  \\\n",
       "0       entailment  you know during the season and i guess at at y...   \n",
       "1       entailment  One of our number will carry out your instruct...   \n",
       "2       entailment  How do you know? All this is their information...   \n",
       "3       entailment  my walkman broke so i'm upset now i just have ...   \n",
       "4       entailment   (Read  for Slate 's take on Jackson's findings.)   \n",
       "...            ...                                                ...   \n",
       "130894  entailment  Dolly Parton's breast implants against Mark Mc...   \n",
       "130895  entailment  The New Radicals sound like Todd Rundgren has ...   \n",
       "130896  entailment  If you would like to scale the highest heights...   \n",
       "130897  entailment                                   Drawing a blank?   \n",
       "130898  entailment  Houseboats are a beautifully preserved traditi...   \n",
       "\n",
       "                                                sentence2  \n",
       "0       You lose the things to the following level if ...  \n",
       "1       A member of my team will execute your orders w...  \n",
       "2                       This information belongs to them.  \n",
       "3       I'm upset that my walkman broke and now I have...  \n",
       "4             Slate had an opinion on Jackson's findings.  \n",
       "...                                                   ...  \n",
       "130894  Dolly Parton's breast implants contrasting Mar...  \n",
       "130895         The New Radicals sound like Todd Rundgren.  \n",
       "130896  Some lessons and advice are a good idea if you...  \n",
       "130897                        You can be drawing a blank.  \n",
       "130898  The tradition of houseboats originated while t...  \n",
       "\n",
       "[130899 rows x 3 columns]"
      ]
     },
     "execution_count": 12,
     "metadata": {},
     "output_type": "execute_result"
    }
   ],
   "source": [
    "new_dataset_entail"
   ]
  },
  {
   "cell_type": "code",
   "execution_count": 13,
   "metadata": {},
   "outputs": [],
   "source": [
    "dataset_not_entail = dataset_not_entail.rename(columns={\"sentence2\": \"negative\"})\n",
    "dataset_not_entail = dataset_not_entail.drop(columns=\"gold_label\")"
   ]
  },
  {
   "cell_type": "code",
   "execution_count": 14,
   "metadata": {},
   "outputs": [],
   "source": [
    "new_dataset_entail = new_dataset_entail.merge(dataset_not_entail, how=\"left\", left_on=\"sentence1\", right_on=\"sentence1\")"
   ]
  },
  {
   "cell_type": "code",
   "execution_count": 15,
   "metadata": {},
   "outputs": [
    {
     "data": {
      "text/html": [
       "<div>\n",
       "<style scoped>\n",
       "    .dataframe tbody tr th:only-of-type {\n",
       "        vertical-align: middle;\n",
       "    }\n",
       "\n",
       "    .dataframe tbody tr th {\n",
       "        vertical-align: top;\n",
       "    }\n",
       "\n",
       "    .dataframe thead th {\n",
       "        text-align: right;\n",
       "    }\n",
       "</style>\n",
       "<table border=\"1\" class=\"dataframe\">\n",
       "  <thead>\n",
       "    <tr style=\"text-align: right;\">\n",
       "      <th></th>\n",
       "      <th>gold_label</th>\n",
       "      <th>sentence1</th>\n",
       "      <th>sentence2</th>\n",
       "      <th>negative</th>\n",
       "    </tr>\n",
       "  </thead>\n",
       "  <tbody>\n",
       "    <tr>\n",
       "      <th>0</th>\n",
       "      <td>entailment</td>\n",
       "      <td>you know during the season and i guess at at y...</td>\n",
       "      <td>You lose the things to the following level if ...</td>\n",
       "      <td>{They never perform recalls on anything.}</td>\n",
       "    </tr>\n",
       "    <tr>\n",
       "      <th>1</th>\n",
       "      <td>entailment</td>\n",
       "      <td>you know during the season and i guess at at y...</td>\n",
       "      <td>You lose the things to the following level if ...</td>\n",
       "      <td>{The recalls are done every Friday.}</td>\n",
       "    </tr>\n",
       "    <tr>\n",
       "      <th>2</th>\n",
       "      <td>entailment</td>\n",
       "      <td>One of our number will carry out your instruct...</td>\n",
       "      <td>A member of my team will execute your orders w...</td>\n",
       "      <td>{We have no one free at the moment so you have...</td>\n",
       "    </tr>\n",
       "    <tr>\n",
       "      <th>3</th>\n",
       "      <td>entailment</td>\n",
       "      <td>One of our number will carry out your instruct...</td>\n",
       "      <td>A member of my team will execute your orders w...</td>\n",
       "      <td>{You provided concise instructions with clear ...</td>\n",
       "    </tr>\n",
       "    <tr>\n",
       "      <th>4</th>\n",
       "      <td>entailment</td>\n",
       "      <td>How do you know? All this is their information...</td>\n",
       "      <td>This information belongs to them.</td>\n",
       "      <td>{We are not sure if they are correct.}</td>\n",
       "    </tr>\n",
       "    <tr>\n",
       "      <th>...</th>\n",
       "      <td>...</td>\n",
       "      <td>...</td>\n",
       "      <td>...</td>\n",
       "      <td>...</td>\n",
       "    </tr>\n",
       "    <tr>\n",
       "      <th>274822</th>\n",
       "      <td>entailment</td>\n",
       "      <td>If you would like to scale the highest heights...</td>\n",
       "      <td>Some lessons and advice are a good idea if you...</td>\n",
       "      <td>{Climbing is a good sport for novices. }</td>\n",
       "    </tr>\n",
       "    <tr>\n",
       "      <th>274823</th>\n",
       "      <td>entailment</td>\n",
       "      <td>Drawing a blank?</td>\n",
       "      <td>You can be drawing a blank.</td>\n",
       "      <td>{You aren't drawing a blank.}</td>\n",
       "    </tr>\n",
       "    <tr>\n",
       "      <th>274824</th>\n",
       "      <td>entailment</td>\n",
       "      <td>Drawing a blank?</td>\n",
       "      <td>You can be drawing a blank.</td>\n",
       "      <td>{You can be drawing a blank due to the complex...</td>\n",
       "    </tr>\n",
       "    <tr>\n",
       "      <th>274825</th>\n",
       "      <td>entailment</td>\n",
       "      <td>Houseboats are a beautifully preserved traditi...</td>\n",
       "      <td>The tradition of houseboats originated while t...</td>\n",
       "      <td>{Houseboats were invented by the British in In...</td>\n",
       "    </tr>\n",
       "    <tr>\n",
       "      <th>274826</th>\n",
       "      <td>entailment</td>\n",
       "      <td>Houseboats are a beautifully preserved traditi...</td>\n",
       "      <td>The tradition of houseboats originated while t...</td>\n",
       "      <td>{Houseboats fell out of favor during the heyda...</td>\n",
       "    </tr>\n",
       "  </tbody>\n",
       "</table>\n",
       "<p>274827 rows × 4 columns</p>\n",
       "</div>"
      ],
      "text/plain": [
       "        gold_label                                          sentence1  \\\n",
       "0       entailment  you know during the season and i guess at at y...   \n",
       "1       entailment  you know during the season and i guess at at y...   \n",
       "2       entailment  One of our number will carry out your instruct...   \n",
       "3       entailment  One of our number will carry out your instruct...   \n",
       "4       entailment  How do you know? All this is their information...   \n",
       "...            ...                                                ...   \n",
       "274822  entailment  If you would like to scale the highest heights...   \n",
       "274823  entailment                                   Drawing a blank?   \n",
       "274824  entailment                                   Drawing a blank?   \n",
       "274825  entailment  Houseboats are a beautifully preserved traditi...   \n",
       "274826  entailment  Houseboats are a beautifully preserved traditi...   \n",
       "\n",
       "                                                sentence2  \\\n",
       "0       You lose the things to the following level if ...   \n",
       "1       You lose the things to the following level if ...   \n",
       "2       A member of my team will execute your orders w...   \n",
       "3       A member of my team will execute your orders w...   \n",
       "4                       This information belongs to them.   \n",
       "...                                                   ...   \n",
       "274822  Some lessons and advice are a good idea if you...   \n",
       "274823                        You can be drawing a blank.   \n",
       "274824                        You can be drawing a blank.   \n",
       "274825  The tradition of houseboats originated while t...   \n",
       "274826  The tradition of houseboats originated while t...   \n",
       "\n",
       "                                                 negative  \n",
       "0               {They never perform recalls on anything.}  \n",
       "1                    {The recalls are done every Friday.}  \n",
       "2       {We have no one free at the moment so you have...  \n",
       "3       {You provided concise instructions with clear ...  \n",
       "4                  {We are not sure if they are correct.}  \n",
       "...                                                   ...  \n",
       "274822           {Climbing is a good sport for novices. }  \n",
       "274823                      {You aren't drawing a blank.}  \n",
       "274824  {You can be drawing a blank due to the complex...  \n",
       "274825  {Houseboats were invented by the British in In...  \n",
       "274826  {Houseboats fell out of favor during the heyda...  \n",
       "\n",
       "[274827 rows x 4 columns]"
      ]
     },
     "execution_count": 15,
     "metadata": {},
     "output_type": "execute_result"
    }
   ],
   "source": [
    "new_dataset_entail"
   ]
  },
  {
   "cell_type": "code",
   "execution_count": 16,
   "metadata": {},
   "outputs": [],
   "source": [
    "# temp = []\n",
    "# for index1 in tqdm(range(len(new_dataset_entail))):\n",
    "#     # print(new_dataset_entail.iloc[index1]['sentence1'])\n",
    "#     for index2 in range(len(dataset_not_entail)):\n",
    "#         if new_dataset_entail.iloc[index1]['sentence1'] == dataset_not_entail.iloc[index2]['sentence1']:\n",
    "#             temp.append(dataset_not_entail.iloc[index2]['sentence2'])\n",
    "#             break"
   ]
  },
  {
   "cell_type": "code",
   "execution_count": 17,
   "metadata": {},
   "outputs": [],
   "source": [
    "# print(len(temp))"
   ]
  },
  {
   "cell_type": "code",
   "execution_count": 18,
   "metadata": {},
   "outputs": [],
   "source": [
    "# new_dataset_entail['negative'] = temp\n",
    "# new_dataset_entail"
   ]
  },
  {
   "cell_type": "code",
   "execution_count": 19,
   "metadata": {},
   "outputs": [],
   "source": [
    "new_dataset_entail = new_dataset_entail[new_dataset_entail['negative'].notna()]"
   ]
  },
  {
   "cell_type": "code",
   "execution_count": 20,
   "metadata": {},
   "outputs": [
    {
     "data": {
      "text/html": [
       "<div>\n",
       "<style scoped>\n",
       "    .dataframe tbody tr th:only-of-type {\n",
       "        vertical-align: middle;\n",
       "    }\n",
       "\n",
       "    .dataframe tbody tr th {\n",
       "        vertical-align: top;\n",
       "    }\n",
       "\n",
       "    .dataframe thead th {\n",
       "        text-align: right;\n",
       "    }\n",
       "</style>\n",
       "<table border=\"1\" class=\"dataframe\">\n",
       "  <thead>\n",
       "    <tr style=\"text-align: right;\">\n",
       "      <th></th>\n",
       "      <th>gold_label</th>\n",
       "      <th>sentence1</th>\n",
       "      <th>sentence2</th>\n",
       "      <th>negative</th>\n",
       "    </tr>\n",
       "  </thead>\n",
       "  <tbody>\n",
       "    <tr>\n",
       "      <th>0</th>\n",
       "      <td>entailment</td>\n",
       "      <td>you know during the season and i guess at at y...</td>\n",
       "      <td>You lose the things to the following level if ...</td>\n",
       "      <td>{They never perform recalls on anything.}</td>\n",
       "    </tr>\n",
       "    <tr>\n",
       "      <th>1</th>\n",
       "      <td>entailment</td>\n",
       "      <td>you know during the season and i guess at at y...</td>\n",
       "      <td>You lose the things to the following level if ...</td>\n",
       "      <td>{The recalls are done every Friday.}</td>\n",
       "    </tr>\n",
       "    <tr>\n",
       "      <th>2</th>\n",
       "      <td>entailment</td>\n",
       "      <td>One of our number will carry out your instruct...</td>\n",
       "      <td>A member of my team will execute your orders w...</td>\n",
       "      <td>{We have no one free at the moment so you have...</td>\n",
       "    </tr>\n",
       "    <tr>\n",
       "      <th>3</th>\n",
       "      <td>entailment</td>\n",
       "      <td>One of our number will carry out your instruct...</td>\n",
       "      <td>A member of my team will execute your orders w...</td>\n",
       "      <td>{You provided concise instructions with clear ...</td>\n",
       "    </tr>\n",
       "    <tr>\n",
       "      <th>4</th>\n",
       "      <td>entailment</td>\n",
       "      <td>How do you know? All this is their information...</td>\n",
       "      <td>This information belongs to them.</td>\n",
       "      <td>{We are not sure if they are correct.}</td>\n",
       "    </tr>\n",
       "    <tr>\n",
       "      <th>...</th>\n",
       "      <td>...</td>\n",
       "      <td>...</td>\n",
       "      <td>...</td>\n",
       "      <td>...</td>\n",
       "    </tr>\n",
       "    <tr>\n",
       "      <th>274822</th>\n",
       "      <td>entailment</td>\n",
       "      <td>If you would like to scale the highest heights...</td>\n",
       "      <td>Some lessons and advice are a good idea if you...</td>\n",
       "      <td>{Climbing is a good sport for novices. }</td>\n",
       "    </tr>\n",
       "    <tr>\n",
       "      <th>274823</th>\n",
       "      <td>entailment</td>\n",
       "      <td>Drawing a blank?</td>\n",
       "      <td>You can be drawing a blank.</td>\n",
       "      <td>{You aren't drawing a blank.}</td>\n",
       "    </tr>\n",
       "    <tr>\n",
       "      <th>274824</th>\n",
       "      <td>entailment</td>\n",
       "      <td>Drawing a blank?</td>\n",
       "      <td>You can be drawing a blank.</td>\n",
       "      <td>{You can be drawing a blank due to the complex...</td>\n",
       "    </tr>\n",
       "    <tr>\n",
       "      <th>274825</th>\n",
       "      <td>entailment</td>\n",
       "      <td>Houseboats are a beautifully preserved traditi...</td>\n",
       "      <td>The tradition of houseboats originated while t...</td>\n",
       "      <td>{Houseboats were invented by the British in In...</td>\n",
       "    </tr>\n",
       "    <tr>\n",
       "      <th>274826</th>\n",
       "      <td>entailment</td>\n",
       "      <td>Houseboats are a beautifully preserved traditi...</td>\n",
       "      <td>The tradition of houseboats originated while t...</td>\n",
       "      <td>{Houseboats fell out of favor during the heyda...</td>\n",
       "    </tr>\n",
       "  </tbody>\n",
       "</table>\n",
       "<p>274825 rows × 4 columns</p>\n",
       "</div>"
      ],
      "text/plain": [
       "        gold_label                                          sentence1  \\\n",
       "0       entailment  you know during the season and i guess at at y...   \n",
       "1       entailment  you know during the season and i guess at at y...   \n",
       "2       entailment  One of our number will carry out your instruct...   \n",
       "3       entailment  One of our number will carry out your instruct...   \n",
       "4       entailment  How do you know? All this is their information...   \n",
       "...            ...                                                ...   \n",
       "274822  entailment  If you would like to scale the highest heights...   \n",
       "274823  entailment                                   Drawing a blank?   \n",
       "274824  entailment                                   Drawing a blank?   \n",
       "274825  entailment  Houseboats are a beautifully preserved traditi...   \n",
       "274826  entailment  Houseboats are a beautifully preserved traditi...   \n",
       "\n",
       "                                                sentence2  \\\n",
       "0       You lose the things to the following level if ...   \n",
       "1       You lose the things to the following level if ...   \n",
       "2       A member of my team will execute your orders w...   \n",
       "3       A member of my team will execute your orders w...   \n",
       "4                       This information belongs to them.   \n",
       "...                                                   ...   \n",
       "274822  Some lessons and advice are a good idea if you...   \n",
       "274823                        You can be drawing a blank.   \n",
       "274824                        You can be drawing a blank.   \n",
       "274825  The tradition of houseboats originated while t...   \n",
       "274826  The tradition of houseboats originated while t...   \n",
       "\n",
       "                                                 negative  \n",
       "0               {They never perform recalls on anything.}  \n",
       "1                    {The recalls are done every Friday.}  \n",
       "2       {We have no one free at the moment so you have...  \n",
       "3       {You provided concise instructions with clear ...  \n",
       "4                  {We are not sure if they are correct.}  \n",
       "...                                                   ...  \n",
       "274822           {Climbing is a good sport for novices. }  \n",
       "274823                      {You aren't drawing a blank.}  \n",
       "274824  {You can be drawing a blank due to the complex...  \n",
       "274825  {Houseboats were invented by the British in In...  \n",
       "274826  {Houseboats fell out of favor during the heyda...  \n",
       "\n",
       "[274825 rows x 4 columns]"
      ]
     },
     "execution_count": 20,
     "metadata": {},
     "output_type": "execute_result"
    }
   ],
   "source": [
    "new_dataset_entail "
   ]
  },
  {
   "cell_type": "code",
   "execution_count": 21,
   "metadata": {},
   "outputs": [
    {
     "data": {
      "text/plain": [
       "Dataset({\n",
       "    features: ['gold_label', 'anchor', 'positive', 'negative'],\n",
       "    num_rows: 274825\n",
       "})"
      ]
     },
     "execution_count": 21,
     "metadata": {},
     "output_type": "execute_result"
    }
   ],
   "source": [
    "new_dataset = Dataset.from_pandas(new_dataset_entail)\n",
    "new_dataset = new_dataset.rename_column(\"sentence1\", \"anchor\")\n",
    "new_dataset = new_dataset.rename_column(\"sentence2\", \"positive\")\n",
    "new_dataset = new_dataset.remove_columns([\"__index_level_0__\"])\n",
    "new_dataset"
   ]
  },
  {
   "cell_type": "code",
   "execution_count": 22,
   "metadata": {},
   "outputs": [
    {
     "data": {
      "application/vnd.jupyter.widget-view+json": {
       "model_id": "a831e3b7a74042eaa50352eb60328c41",
       "version_major": 2,
       "version_minor": 0
      },
      "text/plain": [
       "Map:   0%|          | 0/274825 [00:00<?, ? examples/s]"
      ]
     },
     "metadata": {},
     "output_type": "display_data"
    },
    {
     "ename": "KeyboardInterrupt",
     "evalue": "",
     "output_type": "error",
     "traceback": [
      "\u001b[0;31m---------------------------------------------------------------------------\u001b[0m",
      "\u001b[0;31mKeyboardInterrupt\u001b[0m                         Traceback (most recent call last)",
      "Cell \u001b[0;32mIn[22], line 12\u001b[0m\n\u001b[1;32m      7\u001b[0m     positive \u001b[38;5;241m=\u001b[39m example[\u001b[38;5;124m'\u001b[39m\u001b[38;5;124mpositive\u001b[39m\u001b[38;5;124m'\u001b[39m] \u001b[38;5;241m*\u001b[39m number\n\u001b[1;32m      8\u001b[0m     \u001b[38;5;28;01mreturn\u001b[39;00m {\u001b[38;5;124m'\u001b[39m\u001b[38;5;124mgold_label\u001b[39m\u001b[38;5;124m'\u001b[39m: gold_label, \u001b[38;5;124m'\u001b[39m\u001b[38;5;124manchor\u001b[39m\u001b[38;5;124m'\u001b[39m: anchor, \n\u001b[1;32m      9\u001b[0m             \u001b[38;5;124m'\u001b[39m\u001b[38;5;124mpositive\u001b[39m\u001b[38;5;124m'\u001b[39m: positive, \u001b[38;5;124m'\u001b[39m\u001b[38;5;124mnegative\u001b[39m\u001b[38;5;124m'\u001b[39m: example[\u001b[38;5;124m'\u001b[39m\u001b[38;5;124mnegative\u001b[39m\u001b[38;5;124m'\u001b[39m][\u001b[38;5;241m0\u001b[39m]}\n\u001b[0;32m---> 12\u001b[0m new_dataset \u001b[38;5;241m=\u001b[39m \u001b[43mnew_dataset\u001b[49m\u001b[38;5;241;43m.\u001b[39;49m\u001b[43mmap\u001b[49m\u001b[43m(\u001b[49m\n\u001b[1;32m     13\u001b[0m \u001b[43m    \u001b[49m\u001b[38;5;28;43;01mlambda\u001b[39;49;00m\u001b[43m \u001b[49m\u001b[43mexample\u001b[49m\u001b[43m:\u001b[49m\u001b[43m \u001b[49m\u001b[43mconvert_dataset\u001b[49m\u001b[43m(\u001b[49m\u001b[43mexample\u001b[49m\u001b[43m)\u001b[49m\u001b[43m,\u001b[49m\u001b[43m                   \u001b[49m\n\u001b[1;32m     14\u001b[0m \u001b[43m    \u001b[49m\u001b[43mremove_columns\u001b[49m\u001b[38;5;241;43m=\u001b[39;49m\u001b[43m[\u001b[49m\u001b[38;5;124;43m'\u001b[39;49m\u001b[38;5;124;43mgold_label\u001b[39;49m\u001b[38;5;124;43m'\u001b[39;49m\u001b[43m,\u001b[49m\u001b[43m \u001b[49m\u001b[38;5;124;43m'\u001b[39;49m\u001b[38;5;124;43manchor\u001b[39;49m\u001b[38;5;124;43m'\u001b[39;49m\u001b[43m,\u001b[49m\u001b[43m \u001b[49m\u001b[38;5;124;43m'\u001b[39;49m\u001b[38;5;124;43mpositive\u001b[39;49m\u001b[38;5;124;43m'\u001b[39;49m\u001b[43m,\u001b[49m\u001b[43m \u001b[49m\u001b[38;5;124;43m'\u001b[39;49m\u001b[38;5;124;43mnegative\u001b[39;49m\u001b[38;5;124;43m'\u001b[39;49m\u001b[43m]\u001b[49m\u001b[43m,\u001b[49m\n\u001b[1;32m     15\u001b[0m \u001b[43m    \u001b[49m\u001b[43mbatched\u001b[49m\u001b[38;5;241;43m=\u001b[39;49m\u001b[38;5;28;43;01mTrue\u001b[39;49;00m\u001b[43m,\u001b[49m\n\u001b[1;32m     16\u001b[0m \u001b[43m    \u001b[49m\u001b[43mbatch_size\u001b[49m\u001b[38;5;241;43m=\u001b[39;49m\u001b[38;5;241;43m1\u001b[39;49m\n\u001b[1;32m     17\u001b[0m \u001b[43m)\u001b[49m\n",
      "File \u001b[0;32m~/miniconda3/envs/data/lib/python3.11/site-packages/datasets/arrow_dataset.py:592\u001b[0m, in \u001b[0;36mtransmit_tasks.<locals>.wrapper\u001b[0;34m(*args, **kwargs)\u001b[0m\n\u001b[1;32m    590\u001b[0m     \u001b[38;5;28mself\u001b[39m: \u001b[38;5;124m\"\u001b[39m\u001b[38;5;124mDataset\u001b[39m\u001b[38;5;124m\"\u001b[39m \u001b[38;5;241m=\u001b[39m kwargs\u001b[38;5;241m.\u001b[39mpop(\u001b[38;5;124m\"\u001b[39m\u001b[38;5;124mself\u001b[39m\u001b[38;5;124m\"\u001b[39m)\n\u001b[1;32m    591\u001b[0m \u001b[38;5;66;03m# apply actual function\u001b[39;00m\n\u001b[0;32m--> 592\u001b[0m out: Union[\u001b[38;5;124m\"\u001b[39m\u001b[38;5;124mDataset\u001b[39m\u001b[38;5;124m\"\u001b[39m, \u001b[38;5;124m\"\u001b[39m\u001b[38;5;124mDatasetDict\u001b[39m\u001b[38;5;124m\"\u001b[39m] \u001b[38;5;241m=\u001b[39m \u001b[43mfunc\u001b[49m\u001b[43m(\u001b[49m\u001b[38;5;28;43mself\u001b[39;49m\u001b[43m,\u001b[49m\u001b[43m \u001b[49m\u001b[38;5;241;43m*\u001b[39;49m\u001b[43margs\u001b[49m\u001b[43m,\u001b[49m\u001b[43m \u001b[49m\u001b[38;5;241;43m*\u001b[39;49m\u001b[38;5;241;43m*\u001b[39;49m\u001b[43mkwargs\u001b[49m\u001b[43m)\u001b[49m\n\u001b[1;32m    593\u001b[0m datasets: List[\u001b[38;5;124m\"\u001b[39m\u001b[38;5;124mDataset\u001b[39m\u001b[38;5;124m\"\u001b[39m] \u001b[38;5;241m=\u001b[39m \u001b[38;5;28mlist\u001b[39m(out\u001b[38;5;241m.\u001b[39mvalues()) \u001b[38;5;28;01mif\u001b[39;00m \u001b[38;5;28misinstance\u001b[39m(out, \u001b[38;5;28mdict\u001b[39m) \u001b[38;5;28;01melse\u001b[39;00m [out]\n\u001b[1;32m    594\u001b[0m \u001b[38;5;28;01mfor\u001b[39;00m dataset \u001b[38;5;129;01min\u001b[39;00m datasets:\n\u001b[1;32m    595\u001b[0m     \u001b[38;5;66;03m# Remove task templates if a column mapping of the template is no longer valid\u001b[39;00m\n",
      "File \u001b[0;32m~/miniconda3/envs/data/lib/python3.11/site-packages/datasets/arrow_dataset.py:557\u001b[0m, in \u001b[0;36mtransmit_format.<locals>.wrapper\u001b[0;34m(*args, **kwargs)\u001b[0m\n\u001b[1;32m    550\u001b[0m self_format \u001b[38;5;241m=\u001b[39m {\n\u001b[1;32m    551\u001b[0m     \u001b[38;5;124m\"\u001b[39m\u001b[38;5;124mtype\u001b[39m\u001b[38;5;124m\"\u001b[39m: \u001b[38;5;28mself\u001b[39m\u001b[38;5;241m.\u001b[39m_format_type,\n\u001b[1;32m    552\u001b[0m     \u001b[38;5;124m\"\u001b[39m\u001b[38;5;124mformat_kwargs\u001b[39m\u001b[38;5;124m\"\u001b[39m: \u001b[38;5;28mself\u001b[39m\u001b[38;5;241m.\u001b[39m_format_kwargs,\n\u001b[1;32m    553\u001b[0m     \u001b[38;5;124m\"\u001b[39m\u001b[38;5;124mcolumns\u001b[39m\u001b[38;5;124m\"\u001b[39m: \u001b[38;5;28mself\u001b[39m\u001b[38;5;241m.\u001b[39m_format_columns,\n\u001b[1;32m    554\u001b[0m     \u001b[38;5;124m\"\u001b[39m\u001b[38;5;124moutput_all_columns\u001b[39m\u001b[38;5;124m\"\u001b[39m: \u001b[38;5;28mself\u001b[39m\u001b[38;5;241m.\u001b[39m_output_all_columns,\n\u001b[1;32m    555\u001b[0m }\n\u001b[1;32m    556\u001b[0m \u001b[38;5;66;03m# apply actual function\u001b[39;00m\n\u001b[0;32m--> 557\u001b[0m out: Union[\u001b[38;5;124m\"\u001b[39m\u001b[38;5;124mDataset\u001b[39m\u001b[38;5;124m\"\u001b[39m, \u001b[38;5;124m\"\u001b[39m\u001b[38;5;124mDatasetDict\u001b[39m\u001b[38;5;124m\"\u001b[39m] \u001b[38;5;241m=\u001b[39m \u001b[43mfunc\u001b[49m\u001b[43m(\u001b[49m\u001b[38;5;28;43mself\u001b[39;49m\u001b[43m,\u001b[49m\u001b[43m \u001b[49m\u001b[38;5;241;43m*\u001b[39;49m\u001b[43margs\u001b[49m\u001b[43m,\u001b[49m\u001b[43m \u001b[49m\u001b[38;5;241;43m*\u001b[39;49m\u001b[38;5;241;43m*\u001b[39;49m\u001b[43mkwargs\u001b[49m\u001b[43m)\u001b[49m\n\u001b[1;32m    558\u001b[0m datasets: List[\u001b[38;5;124m\"\u001b[39m\u001b[38;5;124mDataset\u001b[39m\u001b[38;5;124m\"\u001b[39m] \u001b[38;5;241m=\u001b[39m \u001b[38;5;28mlist\u001b[39m(out\u001b[38;5;241m.\u001b[39mvalues()) \u001b[38;5;28;01mif\u001b[39;00m \u001b[38;5;28misinstance\u001b[39m(out, \u001b[38;5;28mdict\u001b[39m) \u001b[38;5;28;01melse\u001b[39;00m [out]\n\u001b[1;32m    559\u001b[0m \u001b[38;5;66;03m# re-apply format to the output\u001b[39;00m\n",
      "File \u001b[0;32m~/miniconda3/envs/data/lib/python3.11/site-packages/datasets/arrow_dataset.py:3093\u001b[0m, in \u001b[0;36mDataset.map\u001b[0;34m(self, function, with_indices, with_rank, input_columns, batched, batch_size, drop_last_batch, remove_columns, keep_in_memory, load_from_cache_file, cache_file_name, writer_batch_size, features, disable_nullable, fn_kwargs, num_proc, suffix_template, new_fingerprint, desc)\u001b[0m\n\u001b[1;32m   3087\u001b[0m \u001b[38;5;28;01mif\u001b[39;00m transformed_dataset \u001b[38;5;129;01mis\u001b[39;00m \u001b[38;5;28;01mNone\u001b[39;00m:\n\u001b[1;32m   3088\u001b[0m     \u001b[38;5;28;01mwith\u001b[39;00m hf_tqdm(\n\u001b[1;32m   3089\u001b[0m         unit\u001b[38;5;241m=\u001b[39m\u001b[38;5;124m\"\u001b[39m\u001b[38;5;124m examples\u001b[39m\u001b[38;5;124m\"\u001b[39m,\n\u001b[1;32m   3090\u001b[0m         total\u001b[38;5;241m=\u001b[39mpbar_total,\n\u001b[1;32m   3091\u001b[0m         desc\u001b[38;5;241m=\u001b[39mdesc \u001b[38;5;129;01mor\u001b[39;00m \u001b[38;5;124m\"\u001b[39m\u001b[38;5;124mMap\u001b[39m\u001b[38;5;124m\"\u001b[39m,\n\u001b[1;32m   3092\u001b[0m     ) \u001b[38;5;28;01mas\u001b[39;00m pbar:\n\u001b[0;32m-> 3093\u001b[0m \u001b[43m        \u001b[49m\u001b[38;5;28;43;01mfor\u001b[39;49;00m\u001b[43m \u001b[49m\u001b[43mrank\u001b[49m\u001b[43m,\u001b[49m\u001b[43m \u001b[49m\u001b[43mdone\u001b[49m\u001b[43m,\u001b[49m\u001b[43m \u001b[49m\u001b[43mcontent\u001b[49m\u001b[43m \u001b[49m\u001b[38;5;129;43;01min\u001b[39;49;00m\u001b[43m \u001b[49m\u001b[43mDataset\u001b[49m\u001b[38;5;241;43m.\u001b[39;49m\u001b[43m_map_single\u001b[49m\u001b[43m(\u001b[49m\u001b[38;5;241;43m*\u001b[39;49m\u001b[38;5;241;43m*\u001b[39;49m\u001b[43mdataset_kwargs\u001b[49m\u001b[43m)\u001b[49m\u001b[43m:\u001b[49m\n\u001b[1;32m   3094\u001b[0m \u001b[43m            \u001b[49m\u001b[38;5;28;43;01mif\u001b[39;49;00m\u001b[43m \u001b[49m\u001b[43mdone\u001b[49m\u001b[43m:\u001b[49m\n\u001b[1;32m   3095\u001b[0m \u001b[43m                \u001b[49m\u001b[43mshards_done\u001b[49m\u001b[43m \u001b[49m\u001b[38;5;241;43m+\u001b[39;49m\u001b[38;5;241;43m=\u001b[39;49m\u001b[43m \u001b[49m\u001b[38;5;241;43m1\u001b[39;49m\n",
      "File \u001b[0;32m~/miniconda3/envs/data/lib/python3.11/site-packages/datasets/arrow_dataset.py:3489\u001b[0m, in \u001b[0;36mDataset._map_single\u001b[0;34m(shard, function, with_indices, with_rank, input_columns, batched, batch_size, drop_last_batch, remove_columns, keep_in_memory, cache_file_name, writer_batch_size, features, disable_nullable, fn_kwargs, new_fingerprint, rank, offset)\u001b[0m\n\u001b[1;32m   3487\u001b[0m         writer\u001b[38;5;241m.\u001b[39mwrite_table(pa\u001b[38;5;241m.\u001b[39mTable\u001b[38;5;241m.\u001b[39mfrom_pandas(batch))\n\u001b[1;32m   3488\u001b[0m     \u001b[38;5;28;01melse\u001b[39;00m:\n\u001b[0;32m-> 3489\u001b[0m         \u001b[43mwriter\u001b[49m\u001b[38;5;241;43m.\u001b[39;49m\u001b[43mwrite_batch\u001b[49m\u001b[43m(\u001b[49m\u001b[43mbatch\u001b[49m\u001b[43m)\u001b[49m\n\u001b[1;32m   3490\u001b[0m num_examples_progress_update \u001b[38;5;241m+\u001b[39m\u001b[38;5;241m=\u001b[39m num_examples_in_batch\n\u001b[1;32m   3491\u001b[0m \u001b[38;5;28;01mif\u001b[39;00m time\u001b[38;5;241m.\u001b[39mtime() \u001b[38;5;241m>\u001b[39m _time \u001b[38;5;241m+\u001b[39m config\u001b[38;5;241m.\u001b[39mPBAR_REFRESH_TIME_INTERVAL:\n",
      "File \u001b[0;32m~/miniconda3/envs/data/lib/python3.11/site-packages/datasets/arrow_writer.py:561\u001b[0m, in \u001b[0;36mArrowWriter.write_batch\u001b[0;34m(self, batch_examples, writer_batch_size)\u001b[0m\n\u001b[1;32m    559\u001b[0m schema \u001b[38;5;241m=\u001b[39m inferred_features\u001b[38;5;241m.\u001b[39marrow_schema \u001b[38;5;28;01mif\u001b[39;00m \u001b[38;5;28mself\u001b[39m\u001b[38;5;241m.\u001b[39mpa_writer \u001b[38;5;129;01mis\u001b[39;00m \u001b[38;5;28;01mNone\u001b[39;00m \u001b[38;5;28;01melse\u001b[39;00m \u001b[38;5;28mself\u001b[39m\u001b[38;5;241m.\u001b[39mschema\n\u001b[1;32m    560\u001b[0m pa_table \u001b[38;5;241m=\u001b[39m pa\u001b[38;5;241m.\u001b[39mTable\u001b[38;5;241m.\u001b[39mfrom_arrays(arrays, schema\u001b[38;5;241m=\u001b[39mschema)\n\u001b[0;32m--> 561\u001b[0m \u001b[38;5;28;43mself\u001b[39;49m\u001b[38;5;241;43m.\u001b[39;49m\u001b[43mwrite_table\u001b[49m\u001b[43m(\u001b[49m\u001b[43mpa_table\u001b[49m\u001b[43m,\u001b[49m\u001b[43m \u001b[49m\u001b[43mwriter_batch_size\u001b[49m\u001b[43m)\u001b[49m\n",
      "File \u001b[0;32m~/miniconda3/envs/data/lib/python3.11/site-packages/datasets/arrow_writer.py:579\u001b[0m, in \u001b[0;36mArrowWriter.write_table\u001b[0;34m(self, pa_table, writer_batch_size)\u001b[0m\n\u001b[1;32m    577\u001b[0m \u001b[38;5;28mself\u001b[39m\u001b[38;5;241m.\u001b[39m_num_bytes \u001b[38;5;241m+\u001b[39m\u001b[38;5;241m=\u001b[39m pa_table\u001b[38;5;241m.\u001b[39mnbytes\n\u001b[1;32m    578\u001b[0m \u001b[38;5;28mself\u001b[39m\u001b[38;5;241m.\u001b[39m_num_examples \u001b[38;5;241m+\u001b[39m\u001b[38;5;241m=\u001b[39m pa_table\u001b[38;5;241m.\u001b[39mnum_rows\n\u001b[0;32m--> 579\u001b[0m \u001b[38;5;28;43mself\u001b[39;49m\u001b[38;5;241;43m.\u001b[39;49m\u001b[43mpa_writer\u001b[49m\u001b[38;5;241;43m.\u001b[39;49m\u001b[43mwrite_table\u001b[49m\u001b[43m(\u001b[49m\u001b[43mpa_table\u001b[49m\u001b[43m,\u001b[49m\u001b[43m \u001b[49m\u001b[43mwriter_batch_size\u001b[49m\u001b[43m)\u001b[49m\n",
      "\u001b[0;31mKeyboardInterrupt\u001b[0m: "
     ]
    }
   ],
   "source": [
    "def convert_dataset(example):\n",
    "    # print(example['negative'])\n",
    "    number = len(example['negative'][0])\n",
    "    # print(gold_label)\n",
    "    gold_label = example['gold_label'] * number\n",
    "    anchor = example['anchor'] * number\n",
    "    positive = example['positive'] * number\n",
    "    return {'gold_label': gold_label, 'anchor': anchor, \n",
    "            'positive': positive, 'negative': example['negative'][0]}\n",
    "\n",
    "        \n",
    "new_dataset = new_dataset.map(\n",
    "    lambda example: convert_dataset(example),                   \n",
    "    remove_columns=['gold_label', 'anchor', 'positive', 'negative'],\n",
    "    batched=True,\n",
    "    batch_size=1\n",
    ")"
   ]
  },
  {
   "cell_type": "code",
   "execution_count": null,
   "metadata": {},
   "outputs": [
    {
     "data": {
      "text/plain": [
       "Dataset({\n",
       "    features: ['gold_label', 'anchor', 'positive', 'negative'],\n",
       "    num_rows: 24536\n",
       "})"
      ]
     },
     "execution_count": 20,
     "metadata": {},
     "output_type": "execute_result"
    }
   ],
   "source": [
    "new_dataset"
   ]
  },
  {
   "cell_type": "code",
   "execution_count": null,
   "metadata": {},
   "outputs": [
    {
     "name": "stdout",
     "output_type": "stream",
     "text": [
      "['', '', '', '', '']\n"
     ]
    }
   ],
   "source": [
    "print(['']*5)"
   ]
  },
  {
   "cell_type": "code",
   "execution_count": null,
   "metadata": {},
   "outputs": [],
   "source": [
    "def add_columns(examples):\n",
    "    # print(len(examples))\n",
    "    length = len(examples['gold_label'])\n",
    "    examples['negative'] = [''] * length\n",
    "    return examples"
   ]
  },
  {
   "cell_type": "code",
   "execution_count": null,
   "metadata": {},
   "outputs": [],
   "source": [
    "converted_dataset = converted_dataset.rename_column(\"sentence1\", \"anchor\")\n",
    "converted_dataset = converted_dataset.rename_column(\"sentence2\", \"positive\")"
   ]
  },
  {
   "cell_type": "code",
   "execution_count": null,
   "metadata": {},
   "outputs": [],
   "source": [
    "converted_dataset = converted_dataset.map(add_columns, batched=True)"
   ]
  },
  {
   "cell_type": "code",
   "execution_count": null,
   "metadata": {},
   "outputs": [],
   "source": [
    "all_data = DatasetDict()\n",
    "all_data['train'] = new_dataset\n",
    "all_data['validation'] = converted_dataset['dev']\n",
    "all_data['test'] = converted_dataset['test']"
   ]
  },
  {
   "cell_type": "code",
   "execution_count": null,
   "metadata": {},
   "outputs": [
    {
     "data": {
      "application/vnd.jupyter.widget-view+json": {
       "model_id": "f669d26dacc94a00b7a7083a427bdaa1",
       "version_major": 2,
       "version_minor": 0
      },
      "text/plain": [
       "Uploading the dataset shards:   0%|          | 0/1 [00:00<?, ?it/s]"
      ]
     },
     "metadata": {},
     "output_type": "display_data"
    },
    {
     "data": {
      "application/vnd.jupyter.widget-view+json": {
       "model_id": "b2a1dc3b279e4e87bda1a4585e41f211",
       "version_major": 2,
       "version_minor": 0
      },
      "text/plain": [
       "Creating parquet from Arrow format:   0%|          | 0/25 [00:00<?, ?ba/s]"
      ]
     },
     "metadata": {},
     "output_type": "display_data"
    },
    {
     "data": {
      "application/vnd.jupyter.widget-view+json": {
       "model_id": "9cdb2b088181411f822e874ff86122f2",
       "version_major": 2,
       "version_minor": 0
      },
      "text/plain": [
       "Uploading the dataset shards:   0%|          | 0/1 [00:00<?, ?it/s]"
      ]
     },
     "metadata": {},
     "output_type": "display_data"
    },
    {
     "data": {
      "application/vnd.jupyter.widget-view+json": {
       "model_id": "89527d27310f4785a7163b61d146397f",
       "version_major": 2,
       "version_minor": 0
      },
      "text/plain": [
       "Creating parquet from Arrow format:   0%|          | 0/3 [00:00<?, ?ba/s]"
      ]
     },
     "metadata": {},
     "output_type": "display_data"
    },
    {
     "data": {
      "application/vnd.jupyter.widget-view+json": {
       "model_id": "9708f79368e9400ca979909baaa0db78",
       "version_major": 2,
       "version_minor": 0
      },
      "text/plain": [
       "Uploading the dataset shards:   0%|          | 0/1 [00:00<?, ?it/s]"
      ]
     },
     "metadata": {},
     "output_type": "display_data"
    },
    {
     "data": {
      "application/vnd.jupyter.widget-view+json": {
       "model_id": "dc9d0dd7347540b99c4629c0a76f9565",
       "version_major": 2,
       "version_minor": 0
      },
      "text/plain": [
       "Creating parquet from Arrow format:   0%|          | 0/3 [00:00<?, ?ba/s]"
      ]
     },
     "metadata": {},
     "output_type": "display_data"
    },
    {
     "data": {
      "application/vnd.jupyter.widget-view+json": {
       "model_id": "09246cf365c24d24b7f9ef3440208686",
       "version_major": 2,
       "version_minor": 0
      },
      "text/plain": [
       "README.md:   0%|          | 0.00/606 [00:00<?, ?B/s]"
      ]
     },
     "metadata": {},
     "output_type": "display_data"
    },
    {
     "data": {
      "text/plain": [
       "CommitInfo(commit_url='https://huggingface.co/datasets/presencesw/vinli_3_label_entailment/commit/c8ca77e7edf8b047fc49b633446c1106d3437d81', commit_message='Upload dataset', commit_description='', oid='c8ca77e7edf8b047fc49b633446c1106d3437d81', pr_url=None, pr_revision=None, pr_num=None)"
      ]
     },
     "execution_count": 26,
     "metadata": {},
     "output_type": "execute_result"
    }
   ],
   "source": [
    "all_data.push_to_hub(f\"{dataset_name}_{label}\")"
   ]
  }
 ],
 "metadata": {
  "kernelspec": {
   "display_name": "Python 3",
   "language": "python",
   "name": "python3"
  },
  "language_info": {
   "codemirror_mode": {
    "name": "ipython",
    "version": 3
   },
   "file_extension": ".py",
   "mimetype": "text/x-python",
   "name": "python",
   "nbconvert_exporter": "python",
   "pygments_lexer": "ipython3",
   "version": "3.11.7"
  }
 },
 "nbformat": 4,
 "nbformat_minor": 2
}
